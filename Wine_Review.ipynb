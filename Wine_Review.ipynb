{
 "cells": [
  {
   "cell_type": "code",
   "execution_count": 1,
   "metadata": {},
   "outputs": [
    {
     "data": {
      "text/plain": [
       "(150930, 11)"
      ]
     },
     "execution_count": 1,
     "metadata": {},
     "output_type": "execute_result"
    }
   ],
   "source": [
    "import numpy as np\n",
    "import pandas as pd\n",
    "import tensorflow as tf\n",
    "import os\n",
    "\n",
    "import seaborn as sns\n",
    "import matplotlib.pyplot as plt\n",
    "import warnings\n",
    "warnings.filterwarnings('ignore')\n",
    "\n",
    "#help(plt.scatter)\n",
    "\n",
    "review=pd.read_csv('/Users/ajay/Documents/IpyNote/wine-reviews/winemag-data_first150k.csv')\n",
    "review.shape"
   ]
  },
  {
   "cell_type": "code",
   "execution_count": 2,
   "metadata": {},
   "outputs": [
    {
     "data": {
      "text/html": [
       "<div>\n",
       "<style scoped>\n",
       "    .dataframe tbody tr th:only-of-type {\n",
       "        vertical-align: middle;\n",
       "    }\n",
       "\n",
       "    .dataframe tbody tr th {\n",
       "        vertical-align: top;\n",
       "    }\n",
       "\n",
       "    .dataframe thead th {\n",
       "        text-align: right;\n",
       "    }\n",
       "</style>\n",
       "<table border=\"1\" class=\"dataframe\">\n",
       "  <thead>\n",
       "    <tr style=\"text-align: right;\">\n",
       "      <th></th>\n",
       "      <th>Unnamed: 0</th>\n",
       "      <th>country</th>\n",
       "      <th>description</th>\n",
       "      <th>designation</th>\n",
       "      <th>points</th>\n",
       "      <th>price</th>\n",
       "      <th>province</th>\n",
       "      <th>region_1</th>\n",
       "      <th>region_2</th>\n",
       "      <th>variety</th>\n",
       "      <th>winery</th>\n",
       "    </tr>\n",
       "  </thead>\n",
       "  <tbody>\n",
       "    <tr>\n",
       "      <th>0</th>\n",
       "      <td>0</td>\n",
       "      <td>US</td>\n",
       "      <td>This tremendous 100% varietal wine hails from ...</td>\n",
       "      <td>Martha's Vineyard</td>\n",
       "      <td>96</td>\n",
       "      <td>235.0</td>\n",
       "      <td>California</td>\n",
       "      <td>Napa Valley</td>\n",
       "      <td>Napa</td>\n",
       "      <td>Cabernet Sauvignon</td>\n",
       "      <td>Heitz</td>\n",
       "    </tr>\n",
       "    <tr>\n",
       "      <th>1</th>\n",
       "      <td>1</td>\n",
       "      <td>Spain</td>\n",
       "      <td>Ripe aromas of fig, blackberry and cassis are ...</td>\n",
       "      <td>Carodorum Selección Especial Reserva</td>\n",
       "      <td>96</td>\n",
       "      <td>110.0</td>\n",
       "      <td>Northern Spain</td>\n",
       "      <td>Toro</td>\n",
       "      <td>NaN</td>\n",
       "      <td>Tinta de Toro</td>\n",
       "      <td>Bodega Carmen Rodríguez</td>\n",
       "    </tr>\n",
       "    <tr>\n",
       "      <th>2</th>\n",
       "      <td>2</td>\n",
       "      <td>US</td>\n",
       "      <td>Mac Watson honors the memory of a wine once ma...</td>\n",
       "      <td>Special Selected Late Harvest</td>\n",
       "      <td>96</td>\n",
       "      <td>90.0</td>\n",
       "      <td>California</td>\n",
       "      <td>Knights Valley</td>\n",
       "      <td>Sonoma</td>\n",
       "      <td>Sauvignon Blanc</td>\n",
       "      <td>Macauley</td>\n",
       "    </tr>\n",
       "    <tr>\n",
       "      <th>3</th>\n",
       "      <td>3</td>\n",
       "      <td>US</td>\n",
       "      <td>This spent 20 months in 30% new French oak, an...</td>\n",
       "      <td>Reserve</td>\n",
       "      <td>96</td>\n",
       "      <td>65.0</td>\n",
       "      <td>Oregon</td>\n",
       "      <td>Willamette Valley</td>\n",
       "      <td>Willamette Valley</td>\n",
       "      <td>Pinot Noir</td>\n",
       "      <td>Ponzi</td>\n",
       "    </tr>\n",
       "    <tr>\n",
       "      <th>4</th>\n",
       "      <td>4</td>\n",
       "      <td>France</td>\n",
       "      <td>This is the top wine from La Bégude, named aft...</td>\n",
       "      <td>La Brûlade</td>\n",
       "      <td>95</td>\n",
       "      <td>66.0</td>\n",
       "      <td>Provence</td>\n",
       "      <td>Bandol</td>\n",
       "      <td>NaN</td>\n",
       "      <td>Provence red blend</td>\n",
       "      <td>Domaine de la Bégude</td>\n",
       "    </tr>\n",
       "  </tbody>\n",
       "</table>\n",
       "</div>"
      ],
      "text/plain": [
       "   Unnamed: 0 country                                        description  \\\n",
       "0           0      US  This tremendous 100% varietal wine hails from ...   \n",
       "1           1   Spain  Ripe aromas of fig, blackberry and cassis are ...   \n",
       "2           2      US  Mac Watson honors the memory of a wine once ma...   \n",
       "3           3      US  This spent 20 months in 30% new French oak, an...   \n",
       "4           4  France  This is the top wine from La Bégude, named aft...   \n",
       "\n",
       "                            designation  points  price        province  \\\n",
       "0                     Martha's Vineyard      96  235.0      California   \n",
       "1  Carodorum Selección Especial Reserva      96  110.0  Northern Spain   \n",
       "2         Special Selected Late Harvest      96   90.0      California   \n",
       "3                               Reserve      96   65.0          Oregon   \n",
       "4                            La Brûlade      95   66.0        Provence   \n",
       "\n",
       "            region_1           region_2             variety  \\\n",
       "0        Napa Valley               Napa  Cabernet Sauvignon   \n",
       "1               Toro                NaN       Tinta de Toro   \n",
       "2     Knights Valley             Sonoma     Sauvignon Blanc   \n",
       "3  Willamette Valley  Willamette Valley          Pinot Noir   \n",
       "4             Bandol                NaN  Provence red blend   \n",
       "\n",
       "                    winery  \n",
       "0                    Heitz  \n",
       "1  Bodega Carmen Rodríguez  \n",
       "2                 Macauley  \n",
       "3                    Ponzi  \n",
       "4     Domaine de la Bégude  "
      ]
     },
     "execution_count": 2,
     "metadata": {},
     "output_type": "execute_result"
    }
   ],
   "source": [
    "review.head()"
   ]
  },
  {
   "cell_type": "code",
   "execution_count": 3,
   "metadata": {},
   "outputs": [
    {
     "name": "stdout",
     "output_type": "stream",
     "text": [
      "<class 'pandas.core.frame.DataFrame'>\n",
      "RangeIndex: 150930 entries, 0 to 150929\n",
      "Data columns (total 11 columns):\n",
      "Unnamed: 0     150930 non-null int64\n",
      "country        150925 non-null object\n",
      "description    150930 non-null object\n",
      "designation    105195 non-null object\n",
      "points         150930 non-null int64\n",
      "price          137235 non-null float64\n",
      "province       150925 non-null object\n",
      "region_1       125870 non-null object\n",
      "region_2       60953 non-null object\n",
      "variety        150930 non-null object\n",
      "winery         150930 non-null object\n",
      "dtypes: float64(1), int64(2), object(8)\n",
      "memory usage: 12.7+ MB\n"
     ]
    }
   ],
   "source": [
    "review.info()"
   ]
  },
  {
   "cell_type": "code",
   "execution_count": 4,
   "metadata": {},
   "outputs": [
    {
     "data": {
      "text/html": [
       "<div>\n",
       "<style scoped>\n",
       "    .dataframe tbody tr th:only-of-type {\n",
       "        vertical-align: middle;\n",
       "    }\n",
       "\n",
       "    .dataframe tbody tr th {\n",
       "        vertical-align: top;\n",
       "    }\n",
       "\n",
       "    .dataframe thead th {\n",
       "        text-align: right;\n",
       "    }\n",
       "</style>\n",
       "<table border=\"1\" class=\"dataframe\">\n",
       "  <thead>\n",
       "    <tr style=\"text-align: right;\">\n",
       "      <th></th>\n",
       "      <th>Unnamed: 0</th>\n",
       "      <th>points</th>\n",
       "      <th>price</th>\n",
       "    </tr>\n",
       "  </thead>\n",
       "  <tbody>\n",
       "    <tr>\n",
       "      <th>count</th>\n",
       "      <td>150930.000000</td>\n",
       "      <td>150930.000000</td>\n",
       "      <td>137235.000000</td>\n",
       "    </tr>\n",
       "    <tr>\n",
       "      <th>mean</th>\n",
       "      <td>75464.500000</td>\n",
       "      <td>87.888418</td>\n",
       "      <td>33.131482</td>\n",
       "    </tr>\n",
       "    <tr>\n",
       "      <th>std</th>\n",
       "      <td>43569.882402</td>\n",
       "      <td>3.222392</td>\n",
       "      <td>36.322536</td>\n",
       "    </tr>\n",
       "    <tr>\n",
       "      <th>min</th>\n",
       "      <td>0.000000</td>\n",
       "      <td>80.000000</td>\n",
       "      <td>4.000000</td>\n",
       "    </tr>\n",
       "    <tr>\n",
       "      <th>25%</th>\n",
       "      <td>37732.250000</td>\n",
       "      <td>86.000000</td>\n",
       "      <td>16.000000</td>\n",
       "    </tr>\n",
       "    <tr>\n",
       "      <th>50%</th>\n",
       "      <td>75464.500000</td>\n",
       "      <td>88.000000</td>\n",
       "      <td>24.000000</td>\n",
       "    </tr>\n",
       "    <tr>\n",
       "      <th>75%</th>\n",
       "      <td>113196.750000</td>\n",
       "      <td>90.000000</td>\n",
       "      <td>40.000000</td>\n",
       "    </tr>\n",
       "    <tr>\n",
       "      <th>max</th>\n",
       "      <td>150929.000000</td>\n",
       "      <td>100.000000</td>\n",
       "      <td>2300.000000</td>\n",
       "    </tr>\n",
       "  </tbody>\n",
       "</table>\n",
       "</div>"
      ],
      "text/plain": [
       "          Unnamed: 0         points          price\n",
       "count  150930.000000  150930.000000  137235.000000\n",
       "mean    75464.500000      87.888418      33.131482\n",
       "std     43569.882402       3.222392      36.322536\n",
       "min         0.000000      80.000000       4.000000\n",
       "25%     37732.250000      86.000000      16.000000\n",
       "50%     75464.500000      88.000000      24.000000\n",
       "75%    113196.750000      90.000000      40.000000\n",
       "max    150929.000000     100.000000    2300.000000"
      ]
     },
     "execution_count": 4,
     "metadata": {},
     "output_type": "execute_result"
    }
   ],
   "source": [
    "review.describe()"
   ]
  },
  {
   "cell_type": "code",
   "execution_count": 5,
   "metadata": {},
   "outputs": [
    {
     "data": {
      "text/plain": [
       "['Unnamed: 0',\n",
       " 'country',\n",
       " 'description',\n",
       " 'designation',\n",
       " 'points',\n",
       " 'price',\n",
       " 'province',\n",
       " 'region_1',\n",
       " 'region_2',\n",
       " 'variety',\n",
       " 'winery']"
      ]
     },
     "execution_count": 5,
     "metadata": {},
     "output_type": "execute_result"
    }
   ],
   "source": [
    "list(review)\n"
   ]
  },
  {
   "cell_type": "code",
   "execution_count": 6,
   "metadata": {},
   "outputs": [
    {
     "data": {
      "text/plain": [
       "Unnamed: 0         0\n",
       "country            5\n",
       "description        0\n",
       "designation    45735\n",
       "points             0\n",
       "price          13695\n",
       "province           5\n",
       "region_1       25060\n",
       "region_2       89977\n",
       "variety            0\n",
       "winery             0\n",
       "dtype: int64"
      ]
     },
     "execution_count": 6,
     "metadata": {},
     "output_type": "execute_result"
    }
   ],
   "source": [
    "review.isnull().sum()"
   ]
  },
  {
   "cell_type": "code",
   "execution_count": 7,
   "metadata": {},
   "outputs": [
    {
     "data": {
      "text/plain": [
       "0                            Napa\n",
       "1                             NaN\n",
       "2                          Sonoma\n",
       "3               Willamette Valley\n",
       "4                             NaN\n",
       "5                             NaN\n",
       "6                             NaN\n",
       "7                             NaN\n",
       "8               Willamette Valley\n",
       "9                          Sonoma\n",
       "10                            NaN\n",
       "11              Willamette Valley\n",
       "12              Willamette Valley\n",
       "13                            NaN\n",
       "14              Willamette Valley\n",
       "15              Willamette Valley\n",
       "16                           Napa\n",
       "17                            NaN\n",
       "18                            NaN\n",
       "19                         Sonoma\n",
       "20                           Napa\n",
       "21                            NaN\n",
       "22                            NaN\n",
       "23                  Central Coast\n",
       "24                  Central Coast\n",
       "25                            NaN\n",
       "26                            NaN\n",
       "27              Willamette Valley\n",
       "28                  Central Coast\n",
       "29                Columbia Valley\n",
       "                   ...           \n",
       "150900                        NaN\n",
       "150901                        NaN\n",
       "150902                        NaN\n",
       "150903                        NaN\n",
       "150904                        NaN\n",
       "150905                        NaN\n",
       "150906                        NaN\n",
       "150907                        NaN\n",
       "150908                        NaN\n",
       "150909                        NaN\n",
       "150910                        NaN\n",
       "150911                        NaN\n",
       "150912                        NaN\n",
       "150913                        NaN\n",
       "150914    Mendocino/Lake Counties\n",
       "150915                North Coast\n",
       "150916                       Napa\n",
       "150917                        NaN\n",
       "150918                        NaN\n",
       "150919                        NaN\n",
       "150920                        NaN\n",
       "150921                        NaN\n",
       "150922                        NaN\n",
       "150923                        NaN\n",
       "150924                        NaN\n",
       "150925                        NaN\n",
       "150926                        NaN\n",
       "150927                        NaN\n",
       "150928                        NaN\n",
       "150929                        NaN\n",
       "Name: region_2, Length: 150930, dtype: object"
      ]
     },
     "execution_count": 7,
     "metadata": {},
     "output_type": "execute_result"
    }
   ],
   "source": [
    "review['region_2']"
   ]
  },
  {
   "cell_type": "code",
   "execution_count": 8,
   "metadata": {},
   "outputs": [
    {
     "data": {
      "text/plain": [
       "['Unnamed: 0',\n",
       " 'country',\n",
       " 'description',\n",
       " 'designation',\n",
       " 'points',\n",
       " 'price',\n",
       " 'province',\n",
       " 'region_1',\n",
       " 'region_2',\n",
       " 'variety',\n",
       " 'winery']"
      ]
     },
     "execution_count": 8,
     "metadata": {},
     "output_type": "execute_result"
    }
   ],
   "source": [
    "list(review)"
   ]
  },
  {
   "cell_type": "code",
   "execution_count": 9,
   "metadata": {},
   "outputs": [
    {
     "data": {
      "text/html": [
       "<div>\n",
       "<style scoped>\n",
       "    .dataframe tbody tr th:only-of-type {\n",
       "        vertical-align: middle;\n",
       "    }\n",
       "\n",
       "    .dataframe tbody tr th {\n",
       "        vertical-align: top;\n",
       "    }\n",
       "\n",
       "    .dataframe thead th {\n",
       "        text-align: right;\n",
       "    }\n",
       "</style>\n",
       "<table border=\"1\" class=\"dataframe\">\n",
       "  <thead>\n",
       "    <tr style=\"text-align: right;\">\n",
       "      <th></th>\n",
       "      <th>Unnamed: 0</th>\n",
       "      <th>points</th>\n",
       "      <th>price</th>\n",
       "    </tr>\n",
       "  </thead>\n",
       "  <tbody>\n",
       "    <tr>\n",
       "      <th>Unnamed: 0</th>\n",
       "      <td>1.000000</td>\n",
       "      <td>-0.094197</td>\n",
       "      <td>-0.036687</td>\n",
       "    </tr>\n",
       "    <tr>\n",
       "      <th>points</th>\n",
       "      <td>-0.094197</td>\n",
       "      <td>1.000000</td>\n",
       "      <td>0.459863</td>\n",
       "    </tr>\n",
       "    <tr>\n",
       "      <th>price</th>\n",
       "      <td>-0.036687</td>\n",
       "      <td>0.459863</td>\n",
       "      <td>1.000000</td>\n",
       "    </tr>\n",
       "  </tbody>\n",
       "</table>\n",
       "</div>"
      ],
      "text/plain": [
       "            Unnamed: 0    points     price\n",
       "Unnamed: 0    1.000000 -0.094197 -0.036687\n",
       "points       -0.094197  1.000000  0.459863\n",
       "price        -0.036687  0.459863  1.000000"
      ]
     },
     "execution_count": 9,
     "metadata": {},
     "output_type": "execute_result"
    }
   ],
   "source": [
    "review.corr()"
   ]
  },
  {
   "cell_type": "code",
   "execution_count": 10,
   "metadata": {},
   "outputs": [
    {
     "data": {
      "text/plain": [
       "country\n",
       "South Korea               81.500000\n",
       "Montenegro                82.000000\n",
       "China                     82.000000\n",
       "Brazil                    83.240000\n",
       "Slovakia                  83.666667\n",
       "Egypt                     83.666667\n",
       "Lithuania                 84.250000\n",
       "Uruguay                   84.478261\n",
       "Ukraine                   84.600000\n",
       "Moldova                   84.718310\n",
       "Bosnia and Herzegovina    84.750000\n",
       "Mexico                    84.761905\n",
       "Macedonia                 84.812500\n",
       "Romania                   84.920863\n",
       "Japan                     85.000000\n",
       "Bulgaria                  85.467532\n",
       "Georgia                   85.511628\n",
       "Lebanon                   85.702703\n",
       "Czech Republic            85.833333\n",
       "Cyprus                    85.870968\n",
       "Argentina                 85.996093\n",
       "Tunisia                   86.000000\n",
       "Greece                    86.117647\n",
       "Croatia                   86.280899\n",
       "Chile                     86.296768\n",
       "Spain                     86.646589\n",
       "Luxembourg                87.000000\n",
       "Israel                    87.176190\n",
       "South Africa              87.225421\n",
       "Switzerland               87.250000\n",
       "Hungary                   87.329004\n",
       "New Zealand               87.554217\n",
       "India                     87.625000\n",
       "Serbia                    87.714286\n",
       "US                        87.818789\n",
       "Australia                 87.892475\n",
       "US-France                 88.000000\n",
       "Albania                   88.000000\n",
       "Portugal                  88.057685\n",
       "Turkey                    88.096154\n",
       "Morocco                   88.166667\n",
       "Slovenia                  88.234043\n",
       "Canada                    88.239796\n",
       "Italy                     88.413664\n",
       "Germany                   88.626427\n",
       "France                    88.925870\n",
       "Austria                   89.276742\n",
       "England                   92.888889\n",
       "Name: points, dtype: float64"
      ]
     },
     "execution_count": 10,
     "metadata": {},
     "output_type": "execute_result"
    }
   ],
   "source": [
    "#groupby is a Series function\n",
    "review.groupby('country')['points'].mean().sort_values()"
   ]
  },
  {
   "cell_type": "code",
   "execution_count": 11,
   "metadata": {},
   "outputs": [
    {
     "data": {
      "text/html": [
       "<div>\n",
       "<style scoped>\n",
       "    .dataframe tbody tr th:only-of-type {\n",
       "        vertical-align: middle;\n",
       "    }\n",
       "\n",
       "    .dataframe tbody tr th {\n",
       "        vertical-align: top;\n",
       "    }\n",
       "\n",
       "    .dataframe thead th {\n",
       "        text-align: right;\n",
       "    }\n",
       "</style>\n",
       "<table border=\"1\" class=\"dataframe\">\n",
       "  <thead>\n",
       "    <tr style=\"text-align: right;\">\n",
       "      <th></th>\n",
       "      <th>Unnamed: 0</th>\n",
       "      <th>country</th>\n",
       "      <th>description</th>\n",
       "      <th>designation</th>\n",
       "      <th>points</th>\n",
       "      <th>price</th>\n",
       "      <th>province</th>\n",
       "      <th>region_1</th>\n",
       "      <th>region_2</th>\n",
       "      <th>variety</th>\n",
       "      <th>winery</th>\n",
       "    </tr>\n",
       "  </thead>\n",
       "  <tbody>\n",
       "    <tr>\n",
       "      <th>1156</th>\n",
       "      <td>1156</td>\n",
       "      <td>India</td>\n",
       "      <td>Dark violet-red in color, this wine has a bouq...</td>\n",
       "      <td>Estate Bottled</td>\n",
       "      <td>90</td>\n",
       "      <td>13.0</td>\n",
       "      <td>Nashik</td>\n",
       "      <td>NaN</td>\n",
       "      <td>NaN</td>\n",
       "      <td>Shiraz</td>\n",
       "      <td>Sula</td>\n",
       "    </tr>\n",
       "    <tr>\n",
       "      <th>2292</th>\n",
       "      <td>2292</td>\n",
       "      <td>India</td>\n",
       "      <td>Aromas of blackberry, cherry preserves, white ...</td>\n",
       "      <td>Estate Bottled</td>\n",
       "      <td>91</td>\n",
       "      <td>12.0</td>\n",
       "      <td>Nashik</td>\n",
       "      <td>NaN</td>\n",
       "      <td>NaN</td>\n",
       "      <td>Shiraz</td>\n",
       "      <td>Sula</td>\n",
       "    </tr>\n",
       "    <tr>\n",
       "      <th>3145</th>\n",
       "      <td>3145</td>\n",
       "      <td>India</td>\n",
       "      <td>A nose of cut herbs and just-mown grass backed...</td>\n",
       "      <td>NaN</td>\n",
       "      <td>89</td>\n",
       "      <td>12.0</td>\n",
       "      <td>Nashik</td>\n",
       "      <td>NaN</td>\n",
       "      <td>NaN</td>\n",
       "      <td>Sauvignon Blanc</td>\n",
       "      <td>Sula</td>\n",
       "    </tr>\n",
       "    <tr>\n",
       "      <th>3174</th>\n",
       "      <td>3174</td>\n",
       "      <td>India</td>\n",
       "      <td>Aromas of pink grapefruit, grass and coriander...</td>\n",
       "      <td>NaN</td>\n",
       "      <td>90</td>\n",
       "      <td>12.0</td>\n",
       "      <td>Nashik</td>\n",
       "      <td>NaN</td>\n",
       "      <td>NaN</td>\n",
       "      <td>Sauvignon Blanc</td>\n",
       "      <td>Sula</td>\n",
       "    </tr>\n",
       "    <tr>\n",
       "      <th>3840</th>\n",
       "      <td>3840</td>\n",
       "      <td>India</td>\n",
       "      <td>Pineapple, grapefruit, and apricot show bright...</td>\n",
       "      <td>NaN</td>\n",
       "      <td>90</td>\n",
       "      <td>10.0</td>\n",
       "      <td>Nashik</td>\n",
       "      <td>NaN</td>\n",
       "      <td>NaN</td>\n",
       "      <td>Chenin Blanc</td>\n",
       "      <td>Sula</td>\n",
       "    </tr>\n",
       "    <tr>\n",
       "      <th>7804</th>\n",
       "      <td>7804</td>\n",
       "      <td>India</td>\n",
       "      <td>This wine features a fresh nose of grapefruit ...</td>\n",
       "      <td>NaN</td>\n",
       "      <td>87</td>\n",
       "      <td>12.0</td>\n",
       "      <td>Nashik</td>\n",
       "      <td>NaN</td>\n",
       "      <td>NaN</td>\n",
       "      <td>Chenin Blanc</td>\n",
       "      <td>Sula</td>\n",
       "    </tr>\n",
       "    <tr>\n",
       "      <th>36579</th>\n",
       "      <td>36579</td>\n",
       "      <td>India</td>\n",
       "      <td>Charred wood and smoke dominate the nose and p...</td>\n",
       "      <td>Concerto Collection Basso Reserve</td>\n",
       "      <td>82</td>\n",
       "      <td>20.0</td>\n",
       "      <td>Nashik</td>\n",
       "      <td>NaN</td>\n",
       "      <td>NaN</td>\n",
       "      <td>Cabernet Sauvignon</td>\n",
       "      <td>Good Earth Wine</td>\n",
       "    </tr>\n",
       "    <tr>\n",
       "      <th>80529</th>\n",
       "      <td>80529</td>\n",
       "      <td>India</td>\n",
       "      <td>Charred wood and smoke dominate the nose and p...</td>\n",
       "      <td>Concerto Collection Basso Reserve</td>\n",
       "      <td>82</td>\n",
       "      <td>20.0</td>\n",
       "      <td>Nashik</td>\n",
       "      <td>NaN</td>\n",
       "      <td>NaN</td>\n",
       "      <td>Cabernet Sauvignon</td>\n",
       "      <td>Good Earth Wine</td>\n",
       "    </tr>\n",
       "  </tbody>\n",
       "</table>\n",
       "</div>"
      ],
      "text/plain": [
       "       Unnamed: 0 country                                        description  \\\n",
       "1156         1156   India  Dark violet-red in color, this wine has a bouq...   \n",
       "2292         2292   India  Aromas of blackberry, cherry preserves, white ...   \n",
       "3145         3145   India  A nose of cut herbs and just-mown grass backed...   \n",
       "3174         3174   India  Aromas of pink grapefruit, grass and coriander...   \n",
       "3840         3840   India  Pineapple, grapefruit, and apricot show bright...   \n",
       "7804         7804   India  This wine features a fresh nose of grapefruit ...   \n",
       "36579       36579   India  Charred wood and smoke dominate the nose and p...   \n",
       "80529       80529   India  Charred wood and smoke dominate the nose and p...   \n",
       "\n",
       "                             designation  points  price province region_1  \\\n",
       "1156                      Estate Bottled      90   13.0   Nashik      NaN   \n",
       "2292                      Estate Bottled      91   12.0   Nashik      NaN   \n",
       "3145                                 NaN      89   12.0   Nashik      NaN   \n",
       "3174                                 NaN      90   12.0   Nashik      NaN   \n",
       "3840                                 NaN      90   10.0   Nashik      NaN   \n",
       "7804                                 NaN      87   12.0   Nashik      NaN   \n",
       "36579  Concerto Collection Basso Reserve      82   20.0   Nashik      NaN   \n",
       "80529  Concerto Collection Basso Reserve      82   20.0   Nashik      NaN   \n",
       "\n",
       "      region_2             variety           winery  \n",
       "1156       NaN              Shiraz             Sula  \n",
       "2292       NaN              Shiraz             Sula  \n",
       "3145       NaN     Sauvignon Blanc             Sula  \n",
       "3174       NaN     Sauvignon Blanc             Sula  \n",
       "3840       NaN        Chenin Blanc             Sula  \n",
       "7804       NaN        Chenin Blanc             Sula  \n",
       "36579      NaN  Cabernet Sauvignon  Good Earth Wine  \n",
       "80529      NaN  Cabernet Sauvignon  Good Earth Wine  "
      ]
     },
     "execution_count": 11,
     "metadata": {},
     "output_type": "execute_result"
    }
   ],
   "source": [
    "review[review['country']=='India']#['description']"
   ]
  },
  {
   "cell_type": "code",
   "execution_count": 12,
   "metadata": {},
   "outputs": [],
   "source": [
    "review.drop('Unnamed: 0',axis=1,inplace=True)"
   ]
  },
  {
   "cell_type": "code",
   "execution_count": 13,
   "metadata": {},
   "outputs": [
    {
     "data": {
      "text/html": [
       "<div>\n",
       "<style scoped>\n",
       "    .dataframe tbody tr th:only-of-type {\n",
       "        vertical-align: middle;\n",
       "    }\n",
       "\n",
       "    .dataframe tbody tr th {\n",
       "        vertical-align: top;\n",
       "    }\n",
       "\n",
       "    .dataframe thead th {\n",
       "        text-align: right;\n",
       "    }\n",
       "</style>\n",
       "<table border=\"1\" class=\"dataframe\">\n",
       "  <thead>\n",
       "    <tr style=\"text-align: right;\">\n",
       "      <th></th>\n",
       "      <th>country</th>\n",
       "      <th>description</th>\n",
       "      <th>designation</th>\n",
       "      <th>points</th>\n",
       "      <th>price</th>\n",
       "      <th>province</th>\n",
       "      <th>region_1</th>\n",
       "      <th>region_2</th>\n",
       "      <th>variety</th>\n",
       "      <th>winery</th>\n",
       "    </tr>\n",
       "  </thead>\n",
       "  <tbody>\n",
       "    <tr>\n",
       "      <th>300</th>\n",
       "      <td>US</td>\n",
       "      <td>This standout Rocks District wine brings earth...</td>\n",
       "      <td>The Funk Estate</td>\n",
       "      <td>94</td>\n",
       "      <td>60.0</td>\n",
       "      <td>Washington</td>\n",
       "      <td>Walla Walla Valley (WA)</td>\n",
       "      <td>Columbia Valley</td>\n",
       "      <td>Syrah</td>\n",
       "      <td>Saviah</td>\n",
       "    </tr>\n",
       "    <tr>\n",
       "      <th>305</th>\n",
       "      <td>New Zealand</td>\n",
       "      <td>Yields were down in 2015, but intensity is up,...</td>\n",
       "      <td>Maté's Vineyard</td>\n",
       "      <td>94</td>\n",
       "      <td>57.0</td>\n",
       "      <td>Kumeu</td>\n",
       "      <td>NaN</td>\n",
       "      <td>NaN</td>\n",
       "      <td>Chardonnay</td>\n",
       "      <td>Kumeu River</td>\n",
       "    </tr>\n",
       "    <tr>\n",
       "      <th>420</th>\n",
       "      <td>US</td>\n",
       "      <td>Though just four years old, this wine seems ad...</td>\n",
       "      <td>NaN</td>\n",
       "      <td>87</td>\n",
       "      <td>36.0</td>\n",
       "      <td>Washington</td>\n",
       "      <td>Columbia Valley (WA)</td>\n",
       "      <td>Columbia Valley</td>\n",
       "      <td>Cabernet Sauvignon</td>\n",
       "      <td>Dussek Family Cellars</td>\n",
       "    </tr>\n",
       "    <tr>\n",
       "      <th>422</th>\n",
       "      <td>US</td>\n",
       "      <td>Tawny in color and wafting of potpourri and fa...</td>\n",
       "      <td>NaN</td>\n",
       "      <td>87</td>\n",
       "      <td>20.0</td>\n",
       "      <td>New York</td>\n",
       "      <td>Finger Lakes</td>\n",
       "      <td>Finger Lakes</td>\n",
       "      <td>Cabernet Franc</td>\n",
       "      <td>Serenity</td>\n",
       "    </tr>\n",
       "    <tr>\n",
       "      <th>423</th>\n",
       "      <td>US</td>\n",
       "      <td>The aromas on this wine are quite light, conve...</td>\n",
       "      <td>Weinbau</td>\n",
       "      <td>87</td>\n",
       "      <td>32.0</td>\n",
       "      <td>Washington</td>\n",
       "      <td>Wahluke Slope</td>\n",
       "      <td>Columbia Valley</td>\n",
       "      <td>Grenache</td>\n",
       "      <td>Sol Stone</td>\n",
       "    </tr>\n",
       "    <tr>\n",
       "      <th>424</th>\n",
       "      <td>Spain</td>\n",
       "      <td>A mix of smoke and toast blends with fresh, cr...</td>\n",
       "      <td>Yá Cuvée 23 Brut Rosé</td>\n",
       "      <td>87</td>\n",
       "      <td>18.0</td>\n",
       "      <td>Catalonia</td>\n",
       "      <td>Cava</td>\n",
       "      <td>NaN</td>\n",
       "      <td>Sparkling Blend</td>\n",
       "      <td>Sumarroca</td>\n",
       "    </tr>\n",
       "    <tr>\n",
       "      <th>480</th>\n",
       "      <td>US</td>\n",
       "      <td>Made from what Californians call the Pommard c...</td>\n",
       "      <td>Charles Vineyard Clone O5</td>\n",
       "      <td>89</td>\n",
       "      <td>49.0</td>\n",
       "      <td>California</td>\n",
       "      <td>Anderson Valley</td>\n",
       "      <td>Mendocino/Lake Counties</td>\n",
       "      <td>Pinot Noir</td>\n",
       "      <td>Foursight</td>\n",
       "    </tr>\n",
       "    <tr>\n",
       "      <th>481</th>\n",
       "      <td>Greece</td>\n",
       "      <td>Aromas of leather, cherry and plum lead this b...</td>\n",
       "      <td>NaN</td>\n",
       "      <td>89</td>\n",
       "      <td>17.0</td>\n",
       "      <td>Nemea</td>\n",
       "      <td>NaN</td>\n",
       "      <td>NaN</td>\n",
       "      <td>Agiorgitiko</td>\n",
       "      <td>Boutari</td>\n",
       "    </tr>\n",
       "    <tr>\n",
       "      <th>563</th>\n",
       "      <td>US</td>\n",
       "      <td>Seductive, spicy oak in the aromas and flavors...</td>\n",
       "      <td>NaN</td>\n",
       "      <td>90</td>\n",
       "      <td>40.0</td>\n",
       "      <td>California</td>\n",
       "      <td>Red Hills Lake County</td>\n",
       "      <td>Mendocino/Lake Counties</td>\n",
       "      <td>Cabernet Sauvignon</td>\n",
       "      <td>Boatique</td>\n",
       "    </tr>\n",
       "    <tr>\n",
       "      <th>567</th>\n",
       "      <td>Germany</td>\n",
       "      <td>Apple, pear and stone-fruit flavors are vibran...</td>\n",
       "      <td>Bernkasteler Badstube Kabinett</td>\n",
       "      <td>90</td>\n",
       "      <td>31.0</td>\n",
       "      <td>Mosel</td>\n",
       "      <td>NaN</td>\n",
       "      <td>NaN</td>\n",
       "      <td>Riesling</td>\n",
       "      <td>Dr. H. Thanisch (Erben Thanisch)</td>\n",
       "    </tr>\n",
       "    <tr>\n",
       "      <th>568</th>\n",
       "      <td>US</td>\n",
       "      <td>A slightly herbal, minty character gives perso...</td>\n",
       "      <td>NaN</td>\n",
       "      <td>90</td>\n",
       "      <td>15.0</td>\n",
       "      <td>California</td>\n",
       "      <td>California</td>\n",
       "      <td>California Other</td>\n",
       "      <td>Cabernet Sauvignon</td>\n",
       "      <td>Hahn</td>\n",
       "    </tr>\n",
       "    <tr>\n",
       "      <th>569</th>\n",
       "      <td>US</td>\n",
       "      <td>An ambitious, concentrated, but not oaky wine,...</td>\n",
       "      <td>NaN</td>\n",
       "      <td>90</td>\n",
       "      <td>15.0</td>\n",
       "      <td>California</td>\n",
       "      <td>North Coast</td>\n",
       "      <td>North Coast</td>\n",
       "      <td>Cabernet Sauvignon</td>\n",
       "      <td>Lyeth</td>\n",
       "    </tr>\n",
       "    <tr>\n",
       "      <th>810</th>\n",
       "      <td>Italy</td>\n",
       "      <td>Here's a lively Moscato made in a dry style th...</td>\n",
       "      <td>Bianco Dry</td>\n",
       "      <td>90</td>\n",
       "      <td>22.0</td>\n",
       "      <td>Sicily &amp; Sardinia</td>\n",
       "      <td>Noto</td>\n",
       "      <td>NaN</td>\n",
       "      <td>Moscato</td>\n",
       "      <td>Planeta</td>\n",
       "    </tr>\n",
       "    <tr>\n",
       "      <th>811</th>\n",
       "      <td>Greece</td>\n",
       "      <td>Crisp acidity and a gorgeous, aromatic nose le...</td>\n",
       "      <td>NaN</td>\n",
       "      <td>90</td>\n",
       "      <td>20.0</td>\n",
       "      <td>Santorini</td>\n",
       "      <td>NaN</td>\n",
       "      <td>NaN</td>\n",
       "      <td>Assyrtiko</td>\n",
       "      <td>Santo Wines</td>\n",
       "    </tr>\n",
       "    <tr>\n",
       "      <th>812</th>\n",
       "      <td>US</td>\n",
       "      <td>Among the well-differentiated single vineyard ...</td>\n",
       "      <td>Guadalupe Vineyard</td>\n",
       "      <td>90</td>\n",
       "      <td>48.0</td>\n",
       "      <td>Oregon</td>\n",
       "      <td>Dundee Hills</td>\n",
       "      <td>Willamette Valley</td>\n",
       "      <td>Pinot Noir</td>\n",
       "      <td>Soléna</td>\n",
       "    </tr>\n",
       "    <tr>\n",
       "      <th>813</th>\n",
       "      <td>US</td>\n",
       "      <td>The oak in this wine is restrained, partly bec...</td>\n",
       "      <td>NaN</td>\n",
       "      <td>90</td>\n",
       "      <td>30.0</td>\n",
       "      <td>California</td>\n",
       "      <td>Napa Valley</td>\n",
       "      <td>Napa</td>\n",
       "      <td>Chardonnay</td>\n",
       "      <td>Stags' Leap Winery</td>\n",
       "    </tr>\n",
       "    <tr>\n",
       "      <th>814</th>\n",
       "      <td>Italy</td>\n",
       "      <td>Aromas of iris, rose, dark-skinned berry and a...</td>\n",
       "      <td>Belsito</td>\n",
       "      <td>90</td>\n",
       "      <td>NaN</td>\n",
       "      <td>Sicily &amp; Sardinia</td>\n",
       "      <td>Vittoria</td>\n",
       "      <td>NaN</td>\n",
       "      <td>Frappato</td>\n",
       "      <td>Terre di Giurfo</td>\n",
       "    </tr>\n",
       "    <tr>\n",
       "      <th>815</th>\n",
       "      <td>France</td>\n",
       "      <td>Aromas of this wine show considerable wood. On...</td>\n",
       "      <td>Bastion Premier Cru</td>\n",
       "      <td>90</td>\n",
       "      <td>59.0</td>\n",
       "      <td>Burgundy</td>\n",
       "      <td>Beaune</td>\n",
       "      <td>NaN</td>\n",
       "      <td>Chardonnay</td>\n",
       "      <td>Chanson Père et Fils</td>\n",
       "    </tr>\n",
       "    <tr>\n",
       "      <th>816</th>\n",
       "      <td>France</td>\n",
       "      <td>A soft, stony scent of pebble and the faintest...</td>\n",
       "      <td>Rosenberg</td>\n",
       "      <td>90</td>\n",
       "      <td>24.0</td>\n",
       "      <td>Alsace</td>\n",
       "      <td>Alsace</td>\n",
       "      <td>NaN</td>\n",
       "      <td>Sylvaner</td>\n",
       "      <td>Domaine Barmès-Buecher</td>\n",
       "    </tr>\n",
       "    <tr>\n",
       "      <th>817</th>\n",
       "      <td>France</td>\n",
       "      <td>With tannins and new-wood flavors, this rich w...</td>\n",
       "      <td>Clos de Jeu</td>\n",
       "      <td>90</td>\n",
       "      <td>NaN</td>\n",
       "      <td>Burgundy</td>\n",
       "      <td>Marsannay</td>\n",
       "      <td>NaN</td>\n",
       "      <td>Pinot Noir</td>\n",
       "      <td>Domaine Collotte</td>\n",
       "    </tr>\n",
       "    <tr>\n",
       "      <th>818</th>\n",
       "      <td>France</td>\n",
       "      <td>Subtle hints of ripe, winter-stored apple on t...</td>\n",
       "      <td>L'Aplomb</td>\n",
       "      <td>90</td>\n",
       "      <td>20.0</td>\n",
       "      <td>Alsace</td>\n",
       "      <td>Alsace</td>\n",
       "      <td>NaN</td>\n",
       "      <td>White Blend</td>\n",
       "      <td>Domaine Rieflé-Landmann</td>\n",
       "    </tr>\n",
       "    <tr>\n",
       "      <th>819</th>\n",
       "      <td>France</td>\n",
       "      <td>White summer blossoms and ripe green pears mak...</td>\n",
       "      <td>Réserve</td>\n",
       "      <td>90</td>\n",
       "      <td>20.0</td>\n",
       "      <td>Alsace</td>\n",
       "      <td>Alsace</td>\n",
       "      <td>NaN</td>\n",
       "      <td>Pinot Blanc</td>\n",
       "      <td>Domaine Weinbach</td>\n",
       "    </tr>\n",
       "    <tr>\n",
       "      <th>820</th>\n",
       "      <td>Italy</td>\n",
       "      <td>This offers heady aromas of honeysuckle, white...</td>\n",
       "      <td>Laluci</td>\n",
       "      <td>90</td>\n",
       "      <td>NaN</td>\n",
       "      <td>Sicily &amp; Sardinia</td>\n",
       "      <td>Sicilia</td>\n",
       "      <td>NaN</td>\n",
       "      <td>White Blend</td>\n",
       "      <td>Baglio del Cristo di Campobello</td>\n",
       "    </tr>\n",
       "    <tr>\n",
       "      <th>821</th>\n",
       "      <td>US</td>\n",
       "      <td>This is a sophisticated blend of tart yellow f...</td>\n",
       "      <td>NaN</td>\n",
       "      <td>90</td>\n",
       "      <td>18.0</td>\n",
       "      <td>Oregon</td>\n",
       "      <td>Willamette Valley</td>\n",
       "      <td>Willamette Valley</td>\n",
       "      <td>Pinot Gris</td>\n",
       "      <td>Elizabeth Chambers</td>\n",
       "    </tr>\n",
       "    <tr>\n",
       "      <th>840</th>\n",
       "      <td>US</td>\n",
       "      <td>Smoke and oak pronounce themselves vigorously ...</td>\n",
       "      <td>Estate Grown</td>\n",
       "      <td>90</td>\n",
       "      <td>55.0</td>\n",
       "      <td>California</td>\n",
       "      <td>Moon Mountain District Sonoma County</td>\n",
       "      <td>Sonoma</td>\n",
       "      <td>Cabernet Sauvignon</td>\n",
       "      <td>Korbin Kameron</td>\n",
       "    </tr>\n",
       "    <tr>\n",
       "      <th>841</th>\n",
       "      <td>Spain</td>\n",
       "      <td>In a small field of excellent Cavas, this brea...</td>\n",
       "      <td>Leopardi Brut Nature Gran Reserva</td>\n",
       "      <td>90</td>\n",
       "      <td>35.0</td>\n",
       "      <td>Catalonia</td>\n",
       "      <td>Cava</td>\n",
       "      <td>NaN</td>\n",
       "      <td>Sparkling Blend</td>\n",
       "      <td>Llopart</td>\n",
       "    </tr>\n",
       "    <tr>\n",
       "      <th>857</th>\n",
       "      <td>France</td>\n",
       "      <td>This is pretty pale for a Tavel, with a copper...</td>\n",
       "      <td>NaN</td>\n",
       "      <td>90</td>\n",
       "      <td>24.0</td>\n",
       "      <td>Rhône Valley</td>\n",
       "      <td>Tavel</td>\n",
       "      <td>NaN</td>\n",
       "      <td>Rosé</td>\n",
       "      <td>Prieuré de Montézargues</td>\n",
       "    </tr>\n",
       "    <tr>\n",
       "      <th>859</th>\n",
       "      <td>Spain</td>\n",
       "      <td>This amontillado smells complete, with a tight...</td>\n",
       "      <td>Viña AB Amontillado Seco</td>\n",
       "      <td>90</td>\n",
       "      <td>26.0</td>\n",
       "      <td>Andalucia</td>\n",
       "      <td>Jerez</td>\n",
       "      <td>NaN</td>\n",
       "      <td>Palomino</td>\n",
       "      <td>González Byass</td>\n",
       "    </tr>\n",
       "    <tr>\n",
       "      <th>860</th>\n",
       "      <td>Italy</td>\n",
       "      <td>Aromas of scorched earth, game, truffle and ma...</td>\n",
       "      <td>Riserva</td>\n",
       "      <td>90</td>\n",
       "      <td>25.0</td>\n",
       "      <td>Tuscany</td>\n",
       "      <td>Chianti Classico</td>\n",
       "      <td>NaN</td>\n",
       "      <td>Red Blend</td>\n",
       "      <td>Il Brunone</td>\n",
       "    </tr>\n",
       "    <tr>\n",
       "      <th>861</th>\n",
       "      <td>US</td>\n",
       "      <td>Chocolaty aromas and ample spicy, dark-fruit f...</td>\n",
       "      <td>NaN</td>\n",
       "      <td>90</td>\n",
       "      <td>15.0</td>\n",
       "      <td>California</td>\n",
       "      <td>Dunnigan Hills</td>\n",
       "      <td>Central Valley</td>\n",
       "      <td>Tempranillo</td>\n",
       "      <td>Matchbook</td>\n",
       "    </tr>\n",
       "    <tr>\n",
       "      <th>...</th>\n",
       "      <td>...</td>\n",
       "      <td>...</td>\n",
       "      <td>...</td>\n",
       "      <td>...</td>\n",
       "      <td>...</td>\n",
       "      <td>...</td>\n",
       "      <td>...</td>\n",
       "      <td>...</td>\n",
       "      <td>...</td>\n",
       "      <td>...</td>\n",
       "    </tr>\n",
       "    <tr>\n",
       "      <th>150900</th>\n",
       "      <td>Chile</td>\n",
       "      <td>Aromas of freshly cut lumber, complete with so...</td>\n",
       "      <td>Prima Reserva</td>\n",
       "      <td>81</td>\n",
       "      <td>13.0</td>\n",
       "      <td>Maipo Valley</td>\n",
       "      <td>NaN</td>\n",
       "      <td>NaN</td>\n",
       "      <td>Cabernet Sauvignon</td>\n",
       "      <td>De Martino</td>\n",
       "    </tr>\n",
       "    <tr>\n",
       "      <th>150901</th>\n",
       "      <td>Chile</td>\n",
       "      <td>Lavishly oaked, the fruit here struggles to ma...</td>\n",
       "      <td>Reserva</td>\n",
       "      <td>81</td>\n",
       "      <td>12.0</td>\n",
       "      <td>Maipo Valley</td>\n",
       "      <td>NaN</td>\n",
       "      <td>NaN</td>\n",
       "      <td>Merlot</td>\n",
       "      <td>Undurraga</td>\n",
       "    </tr>\n",
       "    <tr>\n",
       "      <th>150902</th>\n",
       "      <td>Chile</td>\n",
       "      <td>This medium weight Chardonnay offered aromas o...</td>\n",
       "      <td>Estate Bottled</td>\n",
       "      <td>81</td>\n",
       "      <td>10.0</td>\n",
       "      <td>Maipo Valley</td>\n",
       "      <td>NaN</td>\n",
       "      <td>NaN</td>\n",
       "      <td>Chardonnay</td>\n",
       "      <td>De Martino</td>\n",
       "    </tr>\n",
       "    <tr>\n",
       "      <th>150903</th>\n",
       "      <td>Chile</td>\n",
       "      <td>Very light berry and mint aromas open this aus...</td>\n",
       "      <td>120</td>\n",
       "      <td>81</td>\n",
       "      <td>7.0</td>\n",
       "      <td>Rapel Valley</td>\n",
       "      <td>NaN</td>\n",
       "      <td>NaN</td>\n",
       "      <td>Cabernet Sauvignon</td>\n",
       "      <td>Santa Rita</td>\n",
       "    </tr>\n",
       "    <tr>\n",
       "      <th>150904</th>\n",
       "      <td>Chile</td>\n",
       "      <td>A lot of Chilean Cabernets seem to have a dist...</td>\n",
       "      <td>NaN</td>\n",
       "      <td>81</td>\n",
       "      <td>10.0</td>\n",
       "      <td>Maipo Valley</td>\n",
       "      <td>NaN</td>\n",
       "      <td>NaN</td>\n",
       "      <td>Cabernet Sauvignon</td>\n",
       "      <td>De Martino</td>\n",
       "    </tr>\n",
       "    <tr>\n",
       "      <th>150905</th>\n",
       "      <td>Chile</td>\n",
       "      <td>There's not much point in making a reserve-sty...</td>\n",
       "      <td>Prima Reserva</td>\n",
       "      <td>80</td>\n",
       "      <td>13.0</td>\n",
       "      <td>Maipo Valley</td>\n",
       "      <td>NaN</td>\n",
       "      <td>NaN</td>\n",
       "      <td>Merlot</td>\n",
       "      <td>De Martino</td>\n",
       "    </tr>\n",
       "    <tr>\n",
       "      <th>150906</th>\n",
       "      <td>France</td>\n",
       "      <td>This lovely wine, a Monopole, is already showi...</td>\n",
       "      <td>Clos des Reas</td>\n",
       "      <td>93</td>\n",
       "      <td>65.0</td>\n",
       "      <td>Burgundy</td>\n",
       "      <td>Vosne-Romanée</td>\n",
       "      <td>NaN</td>\n",
       "      <td>Pinot Noir</td>\n",
       "      <td>Michel Gros</td>\n",
       "    </tr>\n",
       "    <tr>\n",
       "      <th>150907</th>\n",
       "      <td>France</td>\n",
       "      <td>Rion holds back on the new oak, letting the pu...</td>\n",
       "      <td>Les Beaux-Monts</td>\n",
       "      <td>92</td>\n",
       "      <td>52.0</td>\n",
       "      <td>Burgundy</td>\n",
       "      <td>Vosne-Romanée</td>\n",
       "      <td>NaN</td>\n",
       "      <td>Pinot Noir</td>\n",
       "      <td>Daniel Rion</td>\n",
       "    </tr>\n",
       "    <tr>\n",
       "      <th>150908</th>\n",
       "      <td>France</td>\n",
       "      <td>Another premier cru from Michel Gros, this one...</td>\n",
       "      <td>Aux Brulees</td>\n",
       "      <td>90</td>\n",
       "      <td>65.0</td>\n",
       "      <td>Burgundy</td>\n",
       "      <td>Vosne-Romanée</td>\n",
       "      <td>NaN</td>\n",
       "      <td>Pinot Noir</td>\n",
       "      <td>Michel Gros</td>\n",
       "    </tr>\n",
       "    <tr>\n",
       "      <th>150909</th>\n",
       "      <td>France</td>\n",
       "      <td>This is a lovely, fragrant Burgundy, with a sm...</td>\n",
       "      <td>Clos dea Argillieres</td>\n",
       "      <td>89</td>\n",
       "      <td>52.0</td>\n",
       "      <td>Burgundy</td>\n",
       "      <td>Nuits-St.-Georges</td>\n",
       "      <td>NaN</td>\n",
       "      <td>Pinot Noir</td>\n",
       "      <td>Daniel Rion</td>\n",
       "    </tr>\n",
       "    <tr>\n",
       "      <th>150910</th>\n",
       "      <td>France</td>\n",
       "      <td>Scents of graham cracker and malted milk choco...</td>\n",
       "      <td>NaN</td>\n",
       "      <td>89</td>\n",
       "      <td>38.0</td>\n",
       "      <td>Burgundy</td>\n",
       "      <td>Chambolle-Musigny</td>\n",
       "      <td>NaN</td>\n",
       "      <td>Pinot Noir</td>\n",
       "      <td>Michel Gros</td>\n",
       "    </tr>\n",
       "    <tr>\n",
       "      <th>150911</th>\n",
       "      <td>France</td>\n",
       "      <td>This needs a good bit of breathing time, then ...</td>\n",
       "      <td>Les Chaliots</td>\n",
       "      <td>87</td>\n",
       "      <td>37.0</td>\n",
       "      <td>Burgundy</td>\n",
       "      <td>Nuits-St.-Georges</td>\n",
       "      <td>NaN</td>\n",
       "      <td>Pinot Noir</td>\n",
       "      <td>Michel Gros</td>\n",
       "    </tr>\n",
       "    <tr>\n",
       "      <th>150912</th>\n",
       "      <td>France</td>\n",
       "      <td>The nose is dominated by the attractive scents...</td>\n",
       "      <td>Les Charmes</td>\n",
       "      <td>87</td>\n",
       "      <td>65.0</td>\n",
       "      <td>Burgundy</td>\n",
       "      <td>Chambolle-Musigny</td>\n",
       "      <td>NaN</td>\n",
       "      <td>Pinot Noir</td>\n",
       "      <td>Daniel Rion</td>\n",
       "    </tr>\n",
       "    <tr>\n",
       "      <th>150913</th>\n",
       "      <td>France</td>\n",
       "      <td>Inky and rustic, yet in a refined manner. This...</td>\n",
       "      <td>NaN</td>\n",
       "      <td>94</td>\n",
       "      <td>30.0</td>\n",
       "      <td>Rhône Valley</td>\n",
       "      <td>Châteauneuf-du-Pape</td>\n",
       "      <td>NaN</td>\n",
       "      <td>Rhône-style Red Blend</td>\n",
       "      <td>Le Vieux Donjon</td>\n",
       "    </tr>\n",
       "    <tr>\n",
       "      <th>150914</th>\n",
       "      <td>US</td>\n",
       "      <td>Old-gold in color, and thick and syrupy. The a...</td>\n",
       "      <td>Late Harvest Cluster Select</td>\n",
       "      <td>94</td>\n",
       "      <td>25.0</td>\n",
       "      <td>California</td>\n",
       "      <td>Anderson Valley</td>\n",
       "      <td>Mendocino/Lake Counties</td>\n",
       "      <td>White Riesling</td>\n",
       "      <td>Navarro</td>\n",
       "    </tr>\n",
       "    <tr>\n",
       "      <th>150915</th>\n",
       "      <td>US</td>\n",
       "      <td>Decades ago, Beringer’s then-winemaker Myron N...</td>\n",
       "      <td>Nightingale</td>\n",
       "      <td>93</td>\n",
       "      <td>30.0</td>\n",
       "      <td>California</td>\n",
       "      <td>North Coast</td>\n",
       "      <td>North Coast</td>\n",
       "      <td>White Blend</td>\n",
       "      <td>Beringer</td>\n",
       "    </tr>\n",
       "    <tr>\n",
       "      <th>150916</th>\n",
       "      <td>US</td>\n",
       "      <td>An impressive wine that presents a full bouque...</td>\n",
       "      <td>J. Schram</td>\n",
       "      <td>93</td>\n",
       "      <td>65.0</td>\n",
       "      <td>California</td>\n",
       "      <td>Napa Valley</td>\n",
       "      <td>Napa</td>\n",
       "      <td>Champagne Blend</td>\n",
       "      <td>Schramsberg</td>\n",
       "    </tr>\n",
       "    <tr>\n",
       "      <th>150917</th>\n",
       "      <td>France</td>\n",
       "      <td>Light and elegant, this spicy, lively wine is ...</td>\n",
       "      <td>Brut Mosaïque</td>\n",
       "      <td>92</td>\n",
       "      <td>30.0</td>\n",
       "      <td>Champagne</td>\n",
       "      <td>Champagne</td>\n",
       "      <td>NaN</td>\n",
       "      <td>Champagne Blend</td>\n",
       "      <td>Jacquart</td>\n",
       "    </tr>\n",
       "    <tr>\n",
       "      <th>150918</th>\n",
       "      <td>France</td>\n",
       "      <td>Jacquart makes a full-bodied, ripe style of Ch...</td>\n",
       "      <td>Cuvée Mosaïque</td>\n",
       "      <td>92</td>\n",
       "      <td>38.0</td>\n",
       "      <td>Champagne</td>\n",
       "      <td>Champagne</td>\n",
       "      <td>NaN</td>\n",
       "      <td>Champagne Blend</td>\n",
       "      <td>Jacquart</td>\n",
       "    </tr>\n",
       "    <tr>\n",
       "      <th>150919</th>\n",
       "      <td>France</td>\n",
       "      <td>This classy example opens with a very floral n...</td>\n",
       "      <td>Cuvée President</td>\n",
       "      <td>91</td>\n",
       "      <td>37.0</td>\n",
       "      <td>Champagne</td>\n",
       "      <td>Champagne</td>\n",
       "      <td>NaN</td>\n",
       "      <td>Champagne Blend</td>\n",
       "      <td>H.Germain</td>\n",
       "    </tr>\n",
       "    <tr>\n",
       "      <th>150920</th>\n",
       "      <td>Italy</td>\n",
       "      <td>Rich and mature aromas of smoke, earth and her...</td>\n",
       "      <td>Brut Riserva</td>\n",
       "      <td>91</td>\n",
       "      <td>19.0</td>\n",
       "      <td>Northeastern Italy</td>\n",
       "      <td>Trento</td>\n",
       "      <td>NaN</td>\n",
       "      <td>Champagne Blend</td>\n",
       "      <td>Letrari</td>\n",
       "    </tr>\n",
       "    <tr>\n",
       "      <th>150921</th>\n",
       "      <td>France</td>\n",
       "      <td>Shows some older notes: a bouquet of toasted w...</td>\n",
       "      <td>Blanc de Blancs Brut Mosaïque</td>\n",
       "      <td>91</td>\n",
       "      <td>38.0</td>\n",
       "      <td>Champagne</td>\n",
       "      <td>Champagne</td>\n",
       "      <td>NaN</td>\n",
       "      <td>Champagne Blend</td>\n",
       "      <td>Jacquart</td>\n",
       "    </tr>\n",
       "    <tr>\n",
       "      <th>150922</th>\n",
       "      <td>Italy</td>\n",
       "      <td>Made by 30-ish Roberta Borghese high above Man...</td>\n",
       "      <td>Superiore</td>\n",
       "      <td>91</td>\n",
       "      <td>NaN</td>\n",
       "      <td>Northeastern Italy</td>\n",
       "      <td>Colli Orientali del Friuli</td>\n",
       "      <td>NaN</td>\n",
       "      <td>Tocai</td>\n",
       "      <td>Ronchi di Manzano</td>\n",
       "    </tr>\n",
       "    <tr>\n",
       "      <th>150923</th>\n",
       "      <td>France</td>\n",
       "      <td>Rich and toasty, with tiny bubbles. The bouque...</td>\n",
       "      <td>Demi-Sec</td>\n",
       "      <td>91</td>\n",
       "      <td>30.0</td>\n",
       "      <td>Champagne</td>\n",
       "      <td>Champagne</td>\n",
       "      <td>NaN</td>\n",
       "      <td>Champagne Blend</td>\n",
       "      <td>Jacquart</td>\n",
       "    </tr>\n",
       "    <tr>\n",
       "      <th>150924</th>\n",
       "      <td>France</td>\n",
       "      <td>Really fine for a low-acid vintage, there's an...</td>\n",
       "      <td>Diamant Bleu</td>\n",
       "      <td>91</td>\n",
       "      <td>70.0</td>\n",
       "      <td>Champagne</td>\n",
       "      <td>Champagne</td>\n",
       "      <td>NaN</td>\n",
       "      <td>Champagne Blend</td>\n",
       "      <td>Heidsieck &amp; Co Monopole</td>\n",
       "    </tr>\n",
       "    <tr>\n",
       "      <th>150925</th>\n",
       "      <td>Italy</td>\n",
       "      <td>Many people feel Fiano represents southern Ita...</td>\n",
       "      <td>NaN</td>\n",
       "      <td>91</td>\n",
       "      <td>20.0</td>\n",
       "      <td>Southern Italy</td>\n",
       "      <td>Fiano di Avellino</td>\n",
       "      <td>NaN</td>\n",
       "      <td>White Blend</td>\n",
       "      <td>Feudi di San Gregorio</td>\n",
       "    </tr>\n",
       "    <tr>\n",
       "      <th>150926</th>\n",
       "      <td>France</td>\n",
       "      <td>Offers an intriguing nose with ginger, lime an...</td>\n",
       "      <td>Cuvée Prestige</td>\n",
       "      <td>91</td>\n",
       "      <td>27.0</td>\n",
       "      <td>Champagne</td>\n",
       "      <td>Champagne</td>\n",
       "      <td>NaN</td>\n",
       "      <td>Champagne Blend</td>\n",
       "      <td>H.Germain</td>\n",
       "    </tr>\n",
       "    <tr>\n",
       "      <th>150927</th>\n",
       "      <td>Italy</td>\n",
       "      <td>This classic example comes from a cru vineyard...</td>\n",
       "      <td>Terre di Dora</td>\n",
       "      <td>91</td>\n",
       "      <td>20.0</td>\n",
       "      <td>Southern Italy</td>\n",
       "      <td>Fiano di Avellino</td>\n",
       "      <td>NaN</td>\n",
       "      <td>White Blend</td>\n",
       "      <td>Terredora</td>\n",
       "    </tr>\n",
       "    <tr>\n",
       "      <th>150928</th>\n",
       "      <td>France</td>\n",
       "      <td>A perfect salmon shade, with scents of peaches...</td>\n",
       "      <td>Grand Brut Rosé</td>\n",
       "      <td>90</td>\n",
       "      <td>52.0</td>\n",
       "      <td>Champagne</td>\n",
       "      <td>Champagne</td>\n",
       "      <td>NaN</td>\n",
       "      <td>Champagne Blend</td>\n",
       "      <td>Gosset</td>\n",
       "    </tr>\n",
       "    <tr>\n",
       "      <th>150929</th>\n",
       "      <td>Italy</td>\n",
       "      <td>More Pinot Grigios should taste like this. A r...</td>\n",
       "      <td>NaN</td>\n",
       "      <td>90</td>\n",
       "      <td>15.0</td>\n",
       "      <td>Northeastern Italy</td>\n",
       "      <td>Alto Adige</td>\n",
       "      <td>NaN</td>\n",
       "      <td>Pinot Grigio</td>\n",
       "      <td>Alois Lageder</td>\n",
       "    </tr>\n",
       "  </tbody>\n",
       "</table>\n",
       "<p>53079 rows × 10 columns</p>\n",
       "</div>"
      ],
      "text/plain": [
       "            country                                        description  \\\n",
       "300              US  This standout Rocks District wine brings earth...   \n",
       "305     New Zealand  Yields were down in 2015, but intensity is up,...   \n",
       "420              US  Though just four years old, this wine seems ad...   \n",
       "422              US  Tawny in color and wafting of potpourri and fa...   \n",
       "423              US  The aromas on this wine are quite light, conve...   \n",
       "424           Spain  A mix of smoke and toast blends with fresh, cr...   \n",
       "480              US  Made from what Californians call the Pommard c...   \n",
       "481          Greece  Aromas of leather, cherry and plum lead this b...   \n",
       "563              US  Seductive, spicy oak in the aromas and flavors...   \n",
       "567         Germany  Apple, pear and stone-fruit flavors are vibran...   \n",
       "568              US  A slightly herbal, minty character gives perso...   \n",
       "569              US  An ambitious, concentrated, but not oaky wine,...   \n",
       "810           Italy  Here's a lively Moscato made in a dry style th...   \n",
       "811          Greece  Crisp acidity and a gorgeous, aromatic nose le...   \n",
       "812              US  Among the well-differentiated single vineyard ...   \n",
       "813              US  The oak in this wine is restrained, partly bec...   \n",
       "814           Italy  Aromas of iris, rose, dark-skinned berry and a...   \n",
       "815          France  Aromas of this wine show considerable wood. On...   \n",
       "816          France  A soft, stony scent of pebble and the faintest...   \n",
       "817          France  With tannins and new-wood flavors, this rich w...   \n",
       "818          France  Subtle hints of ripe, winter-stored apple on t...   \n",
       "819          France  White summer blossoms and ripe green pears mak...   \n",
       "820           Italy  This offers heady aromas of honeysuckle, white...   \n",
       "821              US  This is a sophisticated blend of tart yellow f...   \n",
       "840              US  Smoke and oak pronounce themselves vigorously ...   \n",
       "841           Spain  In a small field of excellent Cavas, this brea...   \n",
       "857          France  This is pretty pale for a Tavel, with a copper...   \n",
       "859           Spain  This amontillado smells complete, with a tight...   \n",
       "860           Italy  Aromas of scorched earth, game, truffle and ma...   \n",
       "861              US  Chocolaty aromas and ample spicy, dark-fruit f...   \n",
       "...             ...                                                ...   \n",
       "150900        Chile  Aromas of freshly cut lumber, complete with so...   \n",
       "150901        Chile  Lavishly oaked, the fruit here struggles to ma...   \n",
       "150902        Chile  This medium weight Chardonnay offered aromas o...   \n",
       "150903        Chile  Very light berry and mint aromas open this aus...   \n",
       "150904        Chile  A lot of Chilean Cabernets seem to have a dist...   \n",
       "150905        Chile  There's not much point in making a reserve-sty...   \n",
       "150906       France  This lovely wine, a Monopole, is already showi...   \n",
       "150907       France  Rion holds back on the new oak, letting the pu...   \n",
       "150908       France  Another premier cru from Michel Gros, this one...   \n",
       "150909       France  This is a lovely, fragrant Burgundy, with a sm...   \n",
       "150910       France  Scents of graham cracker and malted milk choco...   \n",
       "150911       France  This needs a good bit of breathing time, then ...   \n",
       "150912       France  The nose is dominated by the attractive scents...   \n",
       "150913       France  Inky and rustic, yet in a refined manner. This...   \n",
       "150914           US  Old-gold in color, and thick and syrupy. The a...   \n",
       "150915           US  Decades ago, Beringer’s then-winemaker Myron N...   \n",
       "150916           US  An impressive wine that presents a full bouque...   \n",
       "150917       France  Light and elegant, this spicy, lively wine is ...   \n",
       "150918       France  Jacquart makes a full-bodied, ripe style of Ch...   \n",
       "150919       France  This classy example opens with a very floral n...   \n",
       "150920        Italy  Rich and mature aromas of smoke, earth and her...   \n",
       "150921       France  Shows some older notes: a bouquet of toasted w...   \n",
       "150922        Italy  Made by 30-ish Roberta Borghese high above Man...   \n",
       "150923       France  Rich and toasty, with tiny bubbles. The bouque...   \n",
       "150924       France  Really fine for a low-acid vintage, there's an...   \n",
       "150925        Italy  Many people feel Fiano represents southern Ita...   \n",
       "150926       France  Offers an intriguing nose with ginger, lime an...   \n",
       "150927        Italy  This classic example comes from a cru vineyard...   \n",
       "150928       France  A perfect salmon shade, with scents of peaches...   \n",
       "150929        Italy  More Pinot Grigios should taste like this. A r...   \n",
       "\n",
       "                              designation  points  price            province  \\\n",
       "300                       The Funk Estate      94   60.0          Washington   \n",
       "305                       Maté's Vineyard      94   57.0               Kumeu   \n",
       "420                                   NaN      87   36.0          Washington   \n",
       "422                                   NaN      87   20.0            New York   \n",
       "423                               Weinbau      87   32.0          Washington   \n",
       "424                 Yá Cuvée 23 Brut Rosé      87   18.0           Catalonia   \n",
       "480             Charles Vineyard Clone O5      89   49.0          California   \n",
       "481                                   NaN      89   17.0               Nemea   \n",
       "563                                   NaN      90   40.0          California   \n",
       "567        Bernkasteler Badstube Kabinett      90   31.0               Mosel   \n",
       "568                                   NaN      90   15.0          California   \n",
       "569                                   NaN      90   15.0          California   \n",
       "810                            Bianco Dry      90   22.0   Sicily & Sardinia   \n",
       "811                                   NaN      90   20.0           Santorini   \n",
       "812                    Guadalupe Vineyard      90   48.0              Oregon   \n",
       "813                                   NaN      90   30.0          California   \n",
       "814                               Belsito      90    NaN   Sicily & Sardinia   \n",
       "815                   Bastion Premier Cru      90   59.0            Burgundy   \n",
       "816                             Rosenberg      90   24.0              Alsace   \n",
       "817                           Clos de Jeu      90    NaN            Burgundy   \n",
       "818                              L'Aplomb      90   20.0              Alsace   \n",
       "819                               Réserve      90   20.0              Alsace   \n",
       "820                                Laluci      90    NaN   Sicily & Sardinia   \n",
       "821                                   NaN      90   18.0              Oregon   \n",
       "840                          Estate Grown      90   55.0          California   \n",
       "841     Leopardi Brut Nature Gran Reserva      90   35.0           Catalonia   \n",
       "857                                   NaN      90   24.0        Rhône Valley   \n",
       "859              Viña AB Amontillado Seco      90   26.0           Andalucia   \n",
       "860                               Riserva      90   25.0             Tuscany   \n",
       "861                                   NaN      90   15.0          California   \n",
       "...                                   ...     ...    ...                 ...   \n",
       "150900                      Prima Reserva      81   13.0        Maipo Valley   \n",
       "150901                            Reserva      81   12.0        Maipo Valley   \n",
       "150902                     Estate Bottled      81   10.0        Maipo Valley   \n",
       "150903                                120      81    7.0        Rapel Valley   \n",
       "150904                                NaN      81   10.0        Maipo Valley   \n",
       "150905                      Prima Reserva      80   13.0        Maipo Valley   \n",
       "150906                      Clos des Reas      93   65.0            Burgundy   \n",
       "150907                    Les Beaux-Monts      92   52.0            Burgundy   \n",
       "150908                        Aux Brulees      90   65.0            Burgundy   \n",
       "150909               Clos dea Argillieres      89   52.0            Burgundy   \n",
       "150910                                NaN      89   38.0            Burgundy   \n",
       "150911                       Les Chaliots      87   37.0            Burgundy   \n",
       "150912                        Les Charmes      87   65.0            Burgundy   \n",
       "150913                                NaN      94   30.0        Rhône Valley   \n",
       "150914        Late Harvest Cluster Select      94   25.0          California   \n",
       "150915                        Nightingale      93   30.0          California   \n",
       "150916                          J. Schram      93   65.0          California   \n",
       "150917                      Brut Mosaïque      92   30.0           Champagne   \n",
       "150918                     Cuvée Mosaïque      92   38.0           Champagne   \n",
       "150919                    Cuvée President      91   37.0           Champagne   \n",
       "150920                       Brut Riserva      91   19.0  Northeastern Italy   \n",
       "150921      Blanc de Blancs Brut Mosaïque      91   38.0           Champagne   \n",
       "150922                          Superiore      91    NaN  Northeastern Italy   \n",
       "150923                           Demi-Sec      91   30.0           Champagne   \n",
       "150924                       Diamant Bleu      91   70.0           Champagne   \n",
       "150925                                NaN      91   20.0      Southern Italy   \n",
       "150926                     Cuvée Prestige      91   27.0           Champagne   \n",
       "150927                      Terre di Dora      91   20.0      Southern Italy   \n",
       "150928                    Grand Brut Rosé      90   52.0           Champagne   \n",
       "150929                                NaN      90   15.0  Northeastern Italy   \n",
       "\n",
       "                                    region_1                 region_2  \\\n",
       "300                  Walla Walla Valley (WA)          Columbia Valley   \n",
       "305                                      NaN                      NaN   \n",
       "420                     Columbia Valley (WA)          Columbia Valley   \n",
       "422                             Finger Lakes             Finger Lakes   \n",
       "423                            Wahluke Slope          Columbia Valley   \n",
       "424                                     Cava                      NaN   \n",
       "480                          Anderson Valley  Mendocino/Lake Counties   \n",
       "481                                      NaN                      NaN   \n",
       "563                    Red Hills Lake County  Mendocino/Lake Counties   \n",
       "567                                      NaN                      NaN   \n",
       "568                               California         California Other   \n",
       "569                              North Coast              North Coast   \n",
       "810                                     Noto                      NaN   \n",
       "811                                      NaN                      NaN   \n",
       "812                             Dundee Hills        Willamette Valley   \n",
       "813                              Napa Valley                     Napa   \n",
       "814                                 Vittoria                      NaN   \n",
       "815                                   Beaune                      NaN   \n",
       "816                                   Alsace                      NaN   \n",
       "817                                Marsannay                      NaN   \n",
       "818                                   Alsace                      NaN   \n",
       "819                                   Alsace                      NaN   \n",
       "820                                  Sicilia                      NaN   \n",
       "821                        Willamette Valley        Willamette Valley   \n",
       "840     Moon Mountain District Sonoma County                   Sonoma   \n",
       "841                                     Cava                      NaN   \n",
       "857                                    Tavel                      NaN   \n",
       "859                                    Jerez                      NaN   \n",
       "860                         Chianti Classico                      NaN   \n",
       "861                           Dunnigan Hills           Central Valley   \n",
       "...                                      ...                      ...   \n",
       "150900                                   NaN                      NaN   \n",
       "150901                                   NaN                      NaN   \n",
       "150902                                   NaN                      NaN   \n",
       "150903                                   NaN                      NaN   \n",
       "150904                                   NaN                      NaN   \n",
       "150905                                   NaN                      NaN   \n",
       "150906                         Vosne-Romanée                      NaN   \n",
       "150907                         Vosne-Romanée                      NaN   \n",
       "150908                         Vosne-Romanée                      NaN   \n",
       "150909                     Nuits-St.-Georges                      NaN   \n",
       "150910                     Chambolle-Musigny                      NaN   \n",
       "150911                     Nuits-St.-Georges                      NaN   \n",
       "150912                     Chambolle-Musigny                      NaN   \n",
       "150913                   Châteauneuf-du-Pape                      NaN   \n",
       "150914                       Anderson Valley  Mendocino/Lake Counties   \n",
       "150915                           North Coast              North Coast   \n",
       "150916                           Napa Valley                     Napa   \n",
       "150917                             Champagne                      NaN   \n",
       "150918                             Champagne                      NaN   \n",
       "150919                             Champagne                      NaN   \n",
       "150920                                Trento                      NaN   \n",
       "150921                             Champagne                      NaN   \n",
       "150922            Colli Orientali del Friuli                      NaN   \n",
       "150923                             Champagne                      NaN   \n",
       "150924                             Champagne                      NaN   \n",
       "150925                     Fiano di Avellino                      NaN   \n",
       "150926                             Champagne                      NaN   \n",
       "150927                     Fiano di Avellino                      NaN   \n",
       "150928                             Champagne                      NaN   \n",
       "150929                            Alto Adige                      NaN   \n",
       "\n",
       "                      variety                            winery  \n",
       "300                     Syrah                            Saviah  \n",
       "305                Chardonnay                       Kumeu River  \n",
       "420        Cabernet Sauvignon             Dussek Family Cellars  \n",
       "422            Cabernet Franc                          Serenity  \n",
       "423                  Grenache                         Sol Stone  \n",
       "424           Sparkling Blend                         Sumarroca  \n",
       "480                Pinot Noir                         Foursight  \n",
       "481               Agiorgitiko                           Boutari  \n",
       "563        Cabernet Sauvignon                          Boatique  \n",
       "567                  Riesling  Dr. H. Thanisch (Erben Thanisch)  \n",
       "568        Cabernet Sauvignon                              Hahn  \n",
       "569        Cabernet Sauvignon                             Lyeth  \n",
       "810                   Moscato                           Planeta  \n",
       "811                 Assyrtiko                       Santo Wines  \n",
       "812                Pinot Noir                            Soléna  \n",
       "813                Chardonnay                Stags' Leap Winery  \n",
       "814                  Frappato                   Terre di Giurfo  \n",
       "815                Chardonnay              Chanson Père et Fils  \n",
       "816                  Sylvaner            Domaine Barmès-Buecher  \n",
       "817                Pinot Noir                  Domaine Collotte  \n",
       "818               White Blend           Domaine Rieflé-Landmann  \n",
       "819               Pinot Blanc                  Domaine Weinbach  \n",
       "820               White Blend   Baglio del Cristo di Campobello  \n",
       "821                Pinot Gris                Elizabeth Chambers  \n",
       "840        Cabernet Sauvignon                    Korbin Kameron  \n",
       "841           Sparkling Blend                           Llopart  \n",
       "857                      Rosé           Prieuré de Montézargues  \n",
       "859                  Palomino                    González Byass  \n",
       "860                 Red Blend                        Il Brunone  \n",
       "861               Tempranillo                         Matchbook  \n",
       "...                       ...                               ...  \n",
       "150900     Cabernet Sauvignon                        De Martino  \n",
       "150901                 Merlot                         Undurraga  \n",
       "150902             Chardonnay                        De Martino  \n",
       "150903     Cabernet Sauvignon                        Santa Rita  \n",
       "150904     Cabernet Sauvignon                        De Martino  \n",
       "150905                 Merlot                        De Martino  \n",
       "150906             Pinot Noir                       Michel Gros  \n",
       "150907             Pinot Noir                       Daniel Rion  \n",
       "150908             Pinot Noir                       Michel Gros  \n",
       "150909             Pinot Noir                       Daniel Rion  \n",
       "150910             Pinot Noir                       Michel Gros  \n",
       "150911             Pinot Noir                       Michel Gros  \n",
       "150912             Pinot Noir                       Daniel Rion  \n",
       "150913  Rhône-style Red Blend                   Le Vieux Donjon  \n",
       "150914         White Riesling                           Navarro  \n",
       "150915            White Blend                          Beringer  \n",
       "150916        Champagne Blend                       Schramsberg  \n",
       "150917        Champagne Blend                          Jacquart  \n",
       "150918        Champagne Blend                          Jacquart  \n",
       "150919        Champagne Blend                         H.Germain  \n",
       "150920        Champagne Blend                           Letrari  \n",
       "150921        Champagne Blend                          Jacquart  \n",
       "150922                  Tocai                 Ronchi di Manzano  \n",
       "150923        Champagne Blend                          Jacquart  \n",
       "150924        Champagne Blend           Heidsieck & Co Monopole  \n",
       "150925            White Blend             Feudi di San Gregorio  \n",
       "150926        Champagne Blend                         H.Germain  \n",
       "150927            White Blend                         Terredora  \n",
       "150928        Champagne Blend                            Gosset  \n",
       "150929           Pinot Grigio                     Alois Lageder  \n",
       "\n",
       "[53079 rows x 10 columns]"
      ]
     },
     "execution_count": 13,
     "metadata": {},
     "output_type": "execute_result"
    }
   ],
   "source": [
    "review[review.duplicated()]"
   ]
  },
  {
   "cell_type": "code",
   "execution_count": 14,
   "metadata": {},
   "outputs": [
    {
     "data": {
      "text/html": [
       "<div>\n",
       "<style scoped>\n",
       "    .dataframe tbody tr th:only-of-type {\n",
       "        vertical-align: middle;\n",
       "    }\n",
       "\n",
       "    .dataframe tbody tr th {\n",
       "        vertical-align: top;\n",
       "    }\n",
       "\n",
       "    .dataframe thead th {\n",
       "        text-align: right;\n",
       "    }\n",
       "</style>\n",
       "<table border=\"1\" class=\"dataframe\">\n",
       "  <thead>\n",
       "    <tr style=\"text-align: right;\">\n",
       "      <th></th>\n",
       "      <th>country</th>\n",
       "      <th>description</th>\n",
       "      <th>designation</th>\n",
       "      <th>points</th>\n",
       "      <th>price</th>\n",
       "      <th>province</th>\n",
       "      <th>region_1</th>\n",
       "      <th>region_2</th>\n",
       "      <th>variety</th>\n",
       "      <th>winery</th>\n",
       "    </tr>\n",
       "  </thead>\n",
       "  <tbody>\n",
       "    <tr>\n",
       "      <th>1156</th>\n",
       "      <td>India</td>\n",
       "      <td>Dark violet-red in color, this wine has a bouq...</td>\n",
       "      <td>Estate Bottled</td>\n",
       "      <td>90</td>\n",
       "      <td>13.0</td>\n",
       "      <td>Nashik</td>\n",
       "      <td>NaN</td>\n",
       "      <td>NaN</td>\n",
       "      <td>Shiraz</td>\n",
       "      <td>Sula</td>\n",
       "    </tr>\n",
       "    <tr>\n",
       "      <th>2292</th>\n",
       "      <td>India</td>\n",
       "      <td>Aromas of blackberry, cherry preserves, white ...</td>\n",
       "      <td>Estate Bottled</td>\n",
       "      <td>91</td>\n",
       "      <td>12.0</td>\n",
       "      <td>Nashik</td>\n",
       "      <td>NaN</td>\n",
       "      <td>NaN</td>\n",
       "      <td>Shiraz</td>\n",
       "      <td>Sula</td>\n",
       "    </tr>\n",
       "    <tr>\n",
       "      <th>3145</th>\n",
       "      <td>India</td>\n",
       "      <td>A nose of cut herbs and just-mown grass backed...</td>\n",
       "      <td>NaN</td>\n",
       "      <td>89</td>\n",
       "      <td>12.0</td>\n",
       "      <td>Nashik</td>\n",
       "      <td>NaN</td>\n",
       "      <td>NaN</td>\n",
       "      <td>Sauvignon Blanc</td>\n",
       "      <td>Sula</td>\n",
       "    </tr>\n",
       "    <tr>\n",
       "      <th>3174</th>\n",
       "      <td>India</td>\n",
       "      <td>Aromas of pink grapefruit, grass and coriander...</td>\n",
       "      <td>NaN</td>\n",
       "      <td>90</td>\n",
       "      <td>12.0</td>\n",
       "      <td>Nashik</td>\n",
       "      <td>NaN</td>\n",
       "      <td>NaN</td>\n",
       "      <td>Sauvignon Blanc</td>\n",
       "      <td>Sula</td>\n",
       "    </tr>\n",
       "    <tr>\n",
       "      <th>3840</th>\n",
       "      <td>India</td>\n",
       "      <td>Pineapple, grapefruit, and apricot show bright...</td>\n",
       "      <td>NaN</td>\n",
       "      <td>90</td>\n",
       "      <td>10.0</td>\n",
       "      <td>Nashik</td>\n",
       "      <td>NaN</td>\n",
       "      <td>NaN</td>\n",
       "      <td>Chenin Blanc</td>\n",
       "      <td>Sula</td>\n",
       "    </tr>\n",
       "    <tr>\n",
       "      <th>7804</th>\n",
       "      <td>India</td>\n",
       "      <td>This wine features a fresh nose of grapefruit ...</td>\n",
       "      <td>NaN</td>\n",
       "      <td>87</td>\n",
       "      <td>12.0</td>\n",
       "      <td>Nashik</td>\n",
       "      <td>NaN</td>\n",
       "      <td>NaN</td>\n",
       "      <td>Chenin Blanc</td>\n",
       "      <td>Sula</td>\n",
       "    </tr>\n",
       "    <tr>\n",
       "      <th>36579</th>\n",
       "      <td>India</td>\n",
       "      <td>Charred wood and smoke dominate the nose and p...</td>\n",
       "      <td>Concerto Collection Basso Reserve</td>\n",
       "      <td>82</td>\n",
       "      <td>20.0</td>\n",
       "      <td>Nashik</td>\n",
       "      <td>NaN</td>\n",
       "      <td>NaN</td>\n",
       "      <td>Cabernet Sauvignon</td>\n",
       "      <td>Good Earth Wine</td>\n",
       "    </tr>\n",
       "    <tr>\n",
       "      <th>80529</th>\n",
       "      <td>India</td>\n",
       "      <td>Charred wood and smoke dominate the nose and p...</td>\n",
       "      <td>Concerto Collection Basso Reserve</td>\n",
       "      <td>82</td>\n",
       "      <td>20.0</td>\n",
       "      <td>Nashik</td>\n",
       "      <td>NaN</td>\n",
       "      <td>NaN</td>\n",
       "      <td>Cabernet Sauvignon</td>\n",
       "      <td>Good Earth Wine</td>\n",
       "    </tr>\n",
       "  </tbody>\n",
       "</table>\n",
       "</div>"
      ],
      "text/plain": [
       "      country                                        description  \\\n",
       "1156    India  Dark violet-red in color, this wine has a bouq...   \n",
       "2292    India  Aromas of blackberry, cherry preserves, white ...   \n",
       "3145    India  A nose of cut herbs and just-mown grass backed...   \n",
       "3174    India  Aromas of pink grapefruit, grass and coriander...   \n",
       "3840    India  Pineapple, grapefruit, and apricot show bright...   \n",
       "7804    India  This wine features a fresh nose of grapefruit ...   \n",
       "36579   India  Charred wood and smoke dominate the nose and p...   \n",
       "80529   India  Charred wood and smoke dominate the nose and p...   \n",
       "\n",
       "                             designation  points  price province region_1  \\\n",
       "1156                      Estate Bottled      90   13.0   Nashik      NaN   \n",
       "2292                      Estate Bottled      91   12.0   Nashik      NaN   \n",
       "3145                                 NaN      89   12.0   Nashik      NaN   \n",
       "3174                                 NaN      90   12.0   Nashik      NaN   \n",
       "3840                                 NaN      90   10.0   Nashik      NaN   \n",
       "7804                                 NaN      87   12.0   Nashik      NaN   \n",
       "36579  Concerto Collection Basso Reserve      82   20.0   Nashik      NaN   \n",
       "80529  Concerto Collection Basso Reserve      82   20.0   Nashik      NaN   \n",
       "\n",
       "      region_2             variety           winery  \n",
       "1156       NaN              Shiraz             Sula  \n",
       "2292       NaN              Shiraz             Sula  \n",
       "3145       NaN     Sauvignon Blanc             Sula  \n",
       "3174       NaN     Sauvignon Blanc             Sula  \n",
       "3840       NaN        Chenin Blanc             Sula  \n",
       "7804       NaN        Chenin Blanc             Sula  \n",
       "36579      NaN  Cabernet Sauvignon  Good Earth Wine  \n",
       "80529      NaN  Cabernet Sauvignon  Good Earth Wine  "
      ]
     },
     "execution_count": 14,
     "metadata": {},
     "output_type": "execute_result"
    }
   ],
   "source": [
    "review[review['country']=='India']#['description']"
   ]
  },
  {
   "cell_type": "code",
   "execution_count": 15,
   "metadata": {},
   "outputs": [
    {
     "data": {
      "text/plain": [
       "1156     False\n",
       "2292     False\n",
       "3145     False\n",
       "3174     False\n",
       "3840     False\n",
       "7804     False\n",
       "36579    False\n",
       "80529     True\n",
       "dtype: bool"
      ]
     },
     "execution_count": 15,
     "metadata": {},
     "output_type": "execute_result"
    }
   ],
   "source": [
    "review[review['country']=='India'].duplicated()#['description']"
   ]
  },
  {
   "cell_type": "code",
   "execution_count": 16,
   "metadata": {},
   "outputs": [
    {
     "data": {
      "text/plain": [
       "country        150925\n",
       "description    150930\n",
       "designation    105195\n",
       "points         150930\n",
       "price          137235\n",
       "province       150925\n",
       "region_1       125870\n",
       "region_2        60953\n",
       "variety        150930\n",
       "winery         150930\n",
       "dtype: int64"
      ]
     },
     "execution_count": 16,
     "metadata": {},
     "output_type": "execute_result"
    }
   ],
   "source": [
    "review.count()"
   ]
  },
  {
   "cell_type": "code",
   "execution_count": 17,
   "metadata": {},
   "outputs": [
    {
     "data": {
      "text/plain": [
       "150930"
      ]
     },
     "execution_count": 17,
     "metadata": {},
     "output_type": "execute_result"
    }
   ],
   "source": [
    "review.duplicated().count()"
   ]
  },
  {
   "cell_type": "code",
   "execution_count": 18,
   "metadata": {},
   "outputs": [],
   "source": [
    "review.drop_duplicates(inplace=True)"
   ]
  },
  {
   "cell_type": "code",
   "execution_count": 19,
   "metadata": {},
   "outputs": [
    {
     "data": {
      "text/plain": [
       "(97851, 10)"
      ]
     },
     "execution_count": 19,
     "metadata": {},
     "output_type": "execute_result"
    }
   ],
   "source": [
    "review.shape"
   ]
  },
  {
   "cell_type": "code",
   "execution_count": 20,
   "metadata": {},
   "outputs": [],
   "source": [
    "my_dict=review.groupby('country').groups#[:]#.value_counts()"
   ]
  },
  {
   "cell_type": "code",
   "execution_count": 21,
   "metadata": {},
   "outputs": [],
   "source": [
    "temp_count=[]\n",
    "for key,value in my_dict.items():\n",
    "    temp_count.append([key,len(list(value))])\n",
    "    #print(key,len(list(value)))"
   ]
  },
  {
   "cell_type": "code",
   "execution_count": 22,
   "metadata": {},
   "outputs": [
    {
     "data": {
      "text/plain": [
       "[['Albania', 1],\n",
       " ['Argentina', 3447],\n",
       " ['Australia', 3152],\n",
       " ['Austria', 1959],\n",
       " ['Bosnia and Herzegovina', 3],\n",
       " ['Brazil', 14],\n",
       " ['Bulgaria', 56],\n",
       " ['Canada', 149],\n",
       " ['Chile', 3735],\n",
       " ['China', 2],\n",
       " ['Croatia', 70],\n",
       " ['Cyprus', 15],\n",
       " ['Czech Republic', 6],\n",
       " ['Egypt', 3],\n",
       " ['England', 9],\n",
       " ['France', 14459],\n",
       " ['Georgia', 30],\n",
       " ['Germany', 1529],\n",
       " ['Greece', 541],\n",
       " ['Hungary', 139],\n",
       " ['India', 7],\n",
       " ['Israel', 370],\n",
       " ['Italy', 14850],\n",
       " ['Japan', 1],\n",
       " ['Lebanon', 27],\n",
       " ['Lithuania', 4],\n",
       " ['Luxembourg', 3],\n",
       " ['Macedonia', 12],\n",
       " ['Mexico', 54],\n",
       " ['Moldova', 46],\n",
       " ['Montenegro', 1],\n",
       " ['Morocco', 11],\n",
       " ['New Zealand', 1865],\n",
       " ['Portugal', 3508],\n",
       " ['Romania', 106],\n",
       " ['Serbia', 10],\n",
       " ['Slovakia', 2],\n",
       " ['Slovenia', 72],\n",
       " ['South Africa', 1481],\n",
       " ['South Korea', 2],\n",
       " ['Spain', 5443],\n",
       " ['Switzerland', 4],\n",
       " ['Tunisia', 2],\n",
       " ['Turkey', 46],\n",
       " ['US', 40544],\n",
       " ['US-France', 1],\n",
       " ['Ukraine', 5],\n",
       " ['Uruguay', 52]]"
      ]
     },
     "execution_count": 22,
     "metadata": {},
     "output_type": "execute_result"
    }
   ],
   "source": [
    "temp_count"
   ]
  },
  {
   "cell_type": "code",
   "execution_count": 23,
   "metadata": {},
   "outputs": [
    {
     "data": {
      "text/html": [
       "<div>\n",
       "<style scoped>\n",
       "    .dataframe tbody tr th:only-of-type {\n",
       "        vertical-align: middle;\n",
       "    }\n",
       "\n",
       "    .dataframe tbody tr th {\n",
       "        vertical-align: top;\n",
       "    }\n",
       "\n",
       "    .dataframe thead th {\n",
       "        text-align: right;\n",
       "    }\n",
       "</style>\n",
       "<table border=\"1\" class=\"dataframe\">\n",
       "  <thead>\n",
       "    <tr style=\"text-align: right;\">\n",
       "      <th></th>\n",
       "      <th>country</th>\n",
       "      <th>description</th>\n",
       "      <th>designation</th>\n",
       "      <th>points</th>\n",
       "      <th>price</th>\n",
       "      <th>province</th>\n",
       "      <th>region_1</th>\n",
       "      <th>region_2</th>\n",
       "      <th>variety</th>\n",
       "      <th>winery</th>\n",
       "    </tr>\n",
       "  </thead>\n",
       "  <tbody>\n",
       "  </tbody>\n",
       "</table>\n",
       "</div>"
      ],
      "text/plain": [
       "Empty DataFrame\n",
       "Columns: [country, description, designation, points, price, province, region_1, region_2, variety, winery]\n",
       "Index: []"
      ]
     },
     "execution_count": 23,
     "metadata": {},
     "output_type": "execute_result"
    }
   ],
   "source": [
    "review[review.duplicated()]"
   ]
  },
  {
   "cell_type": "code",
   "execution_count": 24,
   "metadata": {},
   "outputs": [
    {
     "data": {
      "text/html": [
       "<div>\n",
       "<style scoped>\n",
       "    .dataframe tbody tr th:only-of-type {\n",
       "        vertical-align: middle;\n",
       "    }\n",
       "\n",
       "    .dataframe tbody tr th {\n",
       "        vertical-align: top;\n",
       "    }\n",
       "\n",
       "    .dataframe thead th {\n",
       "        text-align: right;\n",
       "    }\n",
       "</style>\n",
       "<table border=\"1\" class=\"dataframe\">\n",
       "  <thead>\n",
       "    <tr style=\"text-align: right;\">\n",
       "      <th></th>\n",
       "      <th>country</th>\n",
       "      <th>description</th>\n",
       "      <th>designation</th>\n",
       "      <th>points</th>\n",
       "      <th>price</th>\n",
       "      <th>province</th>\n",
       "      <th>region_1</th>\n",
       "      <th>region_2</th>\n",
       "      <th>variety</th>\n",
       "      <th>winery</th>\n",
       "    </tr>\n",
       "  </thead>\n",
       "  <tbody>\n",
       "    <tr>\n",
       "      <th>0</th>\n",
       "      <td>US</td>\n",
       "      <td>This tremendous 100% varietal wine hails from ...</td>\n",
       "      <td>Martha's Vineyard</td>\n",
       "      <td>96</td>\n",
       "      <td>235.0</td>\n",
       "      <td>California</td>\n",
       "      <td>Napa Valley</td>\n",
       "      <td>Napa</td>\n",
       "      <td>Cabernet Sauvignon</td>\n",
       "      <td>Heitz</td>\n",
       "    </tr>\n",
       "    <tr>\n",
       "      <th>1</th>\n",
       "      <td>Spain</td>\n",
       "      <td>Ripe aromas of fig, blackberry and cassis are ...</td>\n",
       "      <td>Carodorum Selección Especial Reserva</td>\n",
       "      <td>96</td>\n",
       "      <td>110.0</td>\n",
       "      <td>Northern Spain</td>\n",
       "      <td>Toro</td>\n",
       "      <td>NaN</td>\n",
       "      <td>Tinta de Toro</td>\n",
       "      <td>Bodega Carmen Rodríguez</td>\n",
       "    </tr>\n",
       "    <tr>\n",
       "      <th>2</th>\n",
       "      <td>US</td>\n",
       "      <td>Mac Watson honors the memory of a wine once ma...</td>\n",
       "      <td>Special Selected Late Harvest</td>\n",
       "      <td>96</td>\n",
       "      <td>90.0</td>\n",
       "      <td>California</td>\n",
       "      <td>Knights Valley</td>\n",
       "      <td>Sonoma</td>\n",
       "      <td>Sauvignon Blanc</td>\n",
       "      <td>Macauley</td>\n",
       "    </tr>\n",
       "  </tbody>\n",
       "</table>\n",
       "</div>"
      ],
      "text/plain": [
       "  country                                        description  \\\n",
       "0      US  This tremendous 100% varietal wine hails from ...   \n",
       "1   Spain  Ripe aromas of fig, blackberry and cassis are ...   \n",
       "2      US  Mac Watson honors the memory of a wine once ma...   \n",
       "\n",
       "                            designation  points  price        province  \\\n",
       "0                     Martha's Vineyard      96  235.0      California   \n",
       "1  Carodorum Selección Especial Reserva      96  110.0  Northern Spain   \n",
       "2         Special Selected Late Harvest      96   90.0      California   \n",
       "\n",
       "         region_1 region_2             variety                   winery  \n",
       "0     Napa Valley     Napa  Cabernet Sauvignon                    Heitz  \n",
       "1            Toro      NaN       Tinta de Toro  Bodega Carmen Rodríguez  \n",
       "2  Knights Valley   Sonoma     Sauvignon Blanc                 Macauley  "
      ]
     },
     "execution_count": 24,
     "metadata": {},
     "output_type": "execute_result"
    }
   ],
   "source": [
    "review.head(3)"
   ]
  },
  {
   "cell_type": "code",
   "execution_count": 25,
   "metadata": {},
   "outputs": [
    {
     "name": "stdout",
     "output_type": "stream",
     "text": [
      "review['country'].value_counts()\n",
      " US                        40544\n",
      "Italy                     14850\n",
      "France                    14459\n",
      "Spain                      5443\n",
      "Chile                      3735\n",
      "Portugal                   3508\n",
      "Argentina                  3447\n",
      "Australia                  3152\n",
      "Austria                    1959\n",
      "New Zealand                1865\n",
      "Germany                    1529\n",
      "South Africa               1481\n",
      "Greece                      541\n",
      "Israel                      370\n",
      "Canada                      149\n",
      "Hungary                     139\n",
      "Romania                     106\n",
      "Slovenia                     72\n",
      "Croatia                      70\n",
      "Bulgaria                     56\n",
      "Mexico                       54\n",
      "Uruguay                      52\n",
      "Turkey                       46\n",
      "Moldova                      46\n",
      "Georgia                      30\n",
      "Lebanon                      27\n",
      "Cyprus                       15\n",
      "Brazil                       14\n",
      "Macedonia                    12\n",
      "Morocco                      11\n",
      "Serbia                       10\n",
      "England                       9\n",
      "India                         7\n",
      "Czech Republic                6\n",
      "Ukraine                       5\n",
      "Switzerland                   4\n",
      "Lithuania                     4\n",
      "Bosnia and Herzegovina        3\n",
      "Luxembourg                    3\n",
      "Egypt                         3\n",
      "Slovakia                      2\n",
      "China                         2\n",
      "South Korea                   2\n",
      "Tunisia                       2\n",
      "US-France                     1\n",
      "Albania                       1\n",
      "Montenegro                    1\n",
      "Japan                         1\n",
      "Name: country, dtype: int64\n",
      "<class 'pandas.core.series.Series'>\n"
     ]
    }
   ],
   "source": [
    "print(\"review['country'].value_counts()\\n\",review['country'].value_counts())  #looks as if the top 12 are majority and share good numbers\n",
    "print(type(review['country'].value_counts()[0:12]))"
   ]
  },
  {
   "cell_type": "code",
   "execution_count": 26,
   "metadata": {},
   "outputs": [
    {
     "data": {
      "text/plain": [
       "<matplotlib.axes._subplots.AxesSubplot at 0x1168cd240>"
      ]
     },
     "execution_count": 26,
     "metadata": {},
     "output_type": "execute_result"
    },
    {
     "data": {
      "image/png": "[encoded data removed]",
      "text/plain": [
       "<Figure size 432x288 with 1 Axes>"
      ]
     },
     "metadata": {},
     "output_type": "display_data"
    }
   ],
   "source": [
    "review['country'].value_counts()[0:12].plot.pie(radius=1.5,autopct='%1.0f%%', pctdistance=1.1, labeldistance=1.2)\n",
    "#plt.pie(sizes, labels=labels, autopct='%1.0f%%', pctdistance=1.1, labeldistance=1.2)"
   ]
  },
  {
   "cell_type": "code",
   "execution_count": 27,
   "metadata": {},
   "outputs": [
    {
     "data": {
      "text/plain": [
       "<matplotlib.axes._subplots.AxesSubplot at 0x1168c3630>"
      ]
     },
     "execution_count": 27,
     "metadata": {},
     "output_type": "execute_result"
    },
    {
     "data": {
      "image/png": "[encoded data removed]",
      "text/plain": [
       "<Figure size 432x288 with 1 Axes>"
      ]
     },
     "metadata": {},
     "output_type": "display_data"
    }
   ],
   "source": [
    "review.province.value_counts()[0:17].plot.bar()"
   ]
  },
  {
   "cell_type": "code",
   "execution_count": 28,
   "metadata": {},
   "outputs": [
    {
     "data": {
      "text/plain": [
       "<matplotlib.axes._subplots.AxesSubplot at 0x116f434e0>"
      ]
     },
     "execution_count": 28,
     "metadata": {},
     "output_type": "execute_result"
    },
    {
     "data": {
      "image/png": "[encoded data removed]",
      "text/plain": [
       "<Figure size 432x288 with 1 Axes>"
      ]
     },
     "metadata": {},
     "output_type": "display_data"
    }
   ],
   "source": [
    "review['province'].value_counts().head(10).plot.bar()"
   ]
  },
  {
   "cell_type": "code",
   "execution_count": 29,
   "metadata": {},
   "outputs": [
    {
     "name": "stdout",
     "output_type": "stream",
     "text": [
      "<class 'pandas.core.series.Series'>\n",
      "28800\n"
     ]
    },
    {
     "data": {
      "text/plain": [
       "<matplotlib.axes._subplots.AxesSubplot at 0x1a1f3d5e48>"
      ]
     },
     "execution_count": 29,
     "metadata": {},
     "output_type": "execute_result"
    },
    {
     "data": {
      "image/png": "[encoded data removed]",
      "text/plain": [
       "<Figure size 432x288 with 1 Axes>"
      ]
     },
     "metadata": {},
     "output_type": "display_data"
    }
   ],
   "source": [
    "print(type(review['province'].value_counts().head(1)))\n",
    "obj=review['province'].value_counts().head(1)\n",
    "print(obj['California'])\n",
    "\n",
    "(review['province'].value_counts().head(10)/obj['California']).plot.bar()"
   ]
  },
  {
   "cell_type": "code",
   "execution_count": 30,
   "metadata": {},
   "outputs": [
    {
     "data": {
      "text/plain": [
       "87     12830\n",
       "88     11624\n",
       "90     10703\n",
       "86      9919\n",
       "89      8553\n",
       "85      8013\n",
       "91      7191\n",
       "84      6870\n",
       "92      6130\n",
       "93      4019\n",
       "83      3751\n",
       "82      2491\n",
       "94      2332\n",
       "95      1132\n",
       "81       951\n",
       "80       562\n",
       "96       440\n",
       "97       226\n",
       "98        75\n",
       "99        28\n",
       "100       11\n",
       "Name: points, dtype: int64"
      ]
     },
     "execution_count": 30,
     "metadata": {},
     "output_type": "execute_result"
    }
   ],
   "source": [
    "review['points'].value_counts()\n",
    "#the statement till value_counts() will print the points along with their frequency in decreasing order of frequency"
   ]
  },
  {
   "cell_type": "code",
   "execution_count": 31,
   "metadata": {},
   "outputs": [
    {
     "data": {
      "text/plain": [
       "Int64Index([ 87,  88,  90,  86,  89,  85,  91,  84,  92,  93,  83,  82,  94,\n",
       "             95,  81,  80,  96,  97,  98,  99, 100],\n",
       "           dtype='int64')"
      ]
     },
     "execution_count": 31,
     "metadata": {},
     "output_type": "execute_result"
    }
   ],
   "source": [
    "review['points'].value_counts().index#.plot.line()"
   ]
  },
  {
   "cell_type": "code",
   "execution_count": 32,
   "metadata": {},
   "outputs": [
    {
     "data": {
      "text/plain": [
       "80       562\n",
       "81       951\n",
       "82      2491\n",
       "83      3751\n",
       "84      6870\n",
       "85      8013\n",
       "86      9919\n",
       "87     12830\n",
       "88     11624\n",
       "89      8553\n",
       "90     10703\n",
       "91      7191\n",
       "92      6130\n",
       "93      4019\n",
       "94      2332\n",
       "95      1132\n",
       "96       440\n",
       "97       226\n",
       "98        75\n",
       "99        28\n",
       "100       11\n",
       "Name: points, dtype: int64"
      ]
     },
     "execution_count": 32,
     "metadata": {},
     "output_type": "execute_result"
    }
   ],
   "source": [
    "review['points'].value_counts().sort_index()"
   ]
  },
  {
   "cell_type": "code",
   "execution_count": 33,
   "metadata": {},
   "outputs": [
    {
     "data": {
      "text/plain": [
       "<matplotlib.axes._subplots.AxesSubplot at 0x1a1f437d30>"
      ]
     },
     "execution_count": 33,
     "metadata": {},
     "output_type": "execute_result"
    },
    {
     "data": {
      "image/png": "[encoded data removed]",
      "text/plain": [
       "<Figure size 432x288 with 1 Axes>"
      ]
     },
     "metadata": {},
     "output_type": "display_data"
    }
   ],
   "source": [
    "review['points'].value_counts().sort_index().plot.line()"
   ]
  },
  {
   "cell_type": "code",
   "execution_count": 34,
   "metadata": {},
   "outputs": [
    {
     "data": {
      "text/plain": [
       "1814"
      ]
     },
     "execution_count": 34,
     "metadata": {},
     "output_type": "execute_result"
    }
   ],
   "source": [
    "review[review['price']>300].count().sum()"
   ]
  },
  {
   "cell_type": "code",
   "execution_count": 35,
   "metadata": {},
   "outputs": [
    {
     "data": {
      "text/plain": [
       "count    89131.000000\n",
       "mean        33.658783\n",
       "std         37.670180\n",
       "min          4.000000\n",
       "25%         16.000000\n",
       "50%         25.000000\n",
       "75%         40.000000\n",
       "max       2300.000000\n",
       "Name: price, dtype: float64"
      ]
     },
     "execution_count": 35,
     "metadata": {},
     "output_type": "execute_result"
    }
   ],
   "source": [
    "review['price'].describe()"
   ]
  },
  {
   "cell_type": "code",
   "execution_count": 36,
   "metadata": {},
   "outputs": [
    {
     "data": {
      "text/plain": [
       "<matplotlib.axes._subplots.AxesSubplot at 0x1a1fe77cc0>"
      ]
     },
     "execution_count": 36,
     "metadata": {},
     "output_type": "execute_result"
    },
    {
     "data": {
      "image/png": "[encoded data removed]",
      "text/plain": [
       "<Figure size 432x288 with 1 Axes>"
      ]
     },
     "metadata": {},
     "output_type": "display_data"
    }
   ],
   "source": [
    "review['price'].count()\n",
    "review['price'].plot.box()"
   ]
  },
  {
   "cell_type": "code",
   "execution_count": 37,
   "metadata": {},
   "outputs": [
    {
     "data": {
      "text/plain": [
       "<matplotlib.axes._subplots.AxesSubplot at 0x1a201ce6a0>"
      ]
     },
     "execution_count": 37,
     "metadata": {},
     "output_type": "execute_result"
    },
    {
     "data": {
      "image/png": "[encoded data removed]",
      "text/plain": [
       "<Figure size 144x720 with 1 Axes>"
      ]
     },
     "metadata": {},
     "output_type": "display_data"
    }
   ],
   "source": [
    "review.boxplot('price',figsize=(2,10))"
   ]
  },
  {
   "cell_type": "code",
   "execution_count": 38,
   "metadata": {},
   "outputs": [
    {
     "data": {
      "text/plain": [
       "<matplotlib.axes._subplots.AxesSubplot at 0x1a215fa240>"
      ]
     },
     "execution_count": 38,
     "metadata": {},
     "output_type": "execute_result"
    },
    {
     "data": {
      "image/png": "[encoded data removed]",
      "text/plain": [
       "<Figure size 432x288 with 1 Axes>"
      ]
     },
     "metadata": {},
     "output_type": "display_data"
    }
   ],
   "source": [
    "review[review['price']<100].plot.scatter(x='price',y='points')"
   ]
  },
  {
   "cell_type": "code",
   "execution_count": 39,
   "metadata": {},
   "outputs": [
    {
     "data": {
      "text/plain": [
       "<matplotlib.axes._subplots.AxesSubplot at 0x1a222e9a58>"
      ]
     },
     "execution_count": 39,
     "metadata": {},
     "output_type": "execute_result"
    },
    {
     "data": {
      "image/png": "[encoded data removed]",
      "text/plain": [
       "<Figure size 432x288 with 2 Axes>"
      ]
     },
     "metadata": {},
     "output_type": "display_data"
    }
   ],
   "source": [
    "review[review['price']<100].plot.hexbin(x='price',y='points',gridsize=10)\n",
    "#hex-binning used when no. of data points are high and overlap in a scatter plot"
   ]
  },
  {
   "cell_type": "code",
   "execution_count": 40,
   "metadata": {},
   "outputs": [],
   "source": [
    "winecount=pd.read_csv('/Users/Ajay/Documents/IPyNote/most-common-wine-scores/top-five-wine-score-counts.csv',index_col=0)\n",
    "#Picks the five most common types of wines and counts, for each of the possible point values, how many of that type of wine got that score.\n",
    "topfive=pd.read_csv('/Users/Ajay/Documents/IPyNote/most-common-wine-scores/top-five-wine-scores.csv')\n",
    "#lists the scores received by the various wines rated amongst the five most common types."
   ]
  },
  {
   "cell_type": "code",
   "execution_count": 41,
   "metadata": {},
   "outputs": [
    {
     "data": {
      "text/html": [
       "<div>\n",
       "<style scoped>\n",
       "    .dataframe tbody tr th:only-of-type {\n",
       "        vertical-align: middle;\n",
       "    }\n",
       "\n",
       "    .dataframe tbody tr th {\n",
       "        vertical-align: top;\n",
       "    }\n",
       "\n",
       "    .dataframe thead th {\n",
       "        text-align: right;\n",
       "    }\n",
       "</style>\n",
       "<table border=\"1\" class=\"dataframe\">\n",
       "  <thead>\n",
       "    <tr style=\"text-align: right;\">\n",
       "      <th></th>\n",
       "      <th>Bordeaux-style Red Blend</th>\n",
       "      <th>Cabernet Sauvignon</th>\n",
       "      <th>Chardonnay</th>\n",
       "      <th>Pinot Noir</th>\n",
       "      <th>Red Blend</th>\n",
       "    </tr>\n",
       "    <tr>\n",
       "      <th>points</th>\n",
       "      <th></th>\n",
       "      <th></th>\n",
       "      <th></th>\n",
       "      <th></th>\n",
       "      <th></th>\n",
       "    </tr>\n",
       "  </thead>\n",
       "  <tbody>\n",
       "    <tr>\n",
       "      <th>80</th>\n",
       "      <td>5.0</td>\n",
       "      <td>87.0</td>\n",
       "      <td>68.0</td>\n",
       "      <td>36.0</td>\n",
       "      <td>72.0</td>\n",
       "    </tr>\n",
       "    <tr>\n",
       "      <th>81</th>\n",
       "      <td>18.0</td>\n",
       "      <td>159.0</td>\n",
       "      <td>150.0</td>\n",
       "      <td>83.0</td>\n",
       "      <td>107.0</td>\n",
       "    </tr>\n",
       "    <tr>\n",
       "      <th>82</th>\n",
       "      <td>72.0</td>\n",
       "      <td>435.0</td>\n",
       "      <td>517.0</td>\n",
       "      <td>295.0</td>\n",
       "      <td>223.0</td>\n",
       "    </tr>\n",
       "    <tr>\n",
       "      <th>83</th>\n",
       "      <td>95.0</td>\n",
       "      <td>570.0</td>\n",
       "      <td>669.0</td>\n",
       "      <td>346.0</td>\n",
       "      <td>364.0</td>\n",
       "    </tr>\n",
       "    <tr>\n",
       "      <th>84</th>\n",
       "      <td>268.0</td>\n",
       "      <td>923.0</td>\n",
       "      <td>1146.0</td>\n",
       "      <td>733.0</td>\n",
       "      <td>602.0</td>\n",
       "    </tr>\n",
       "    <tr>\n",
       "      <th>85</th>\n",
       "      <td>310.0</td>\n",
       "      <td>1048.0</td>\n",
       "      <td>1244.0</td>\n",
       "      <td>873.0</td>\n",
       "      <td>587.0</td>\n",
       "    </tr>\n",
       "    <tr>\n",
       "      <th>86</th>\n",
       "      <td>354.0</td>\n",
       "      <td>1194.0</td>\n",
       "      <td>1472.0</td>\n",
       "      <td>1218.0</td>\n",
       "      <td>871.0</td>\n",
       "    </tr>\n",
       "    <tr>\n",
       "      <th>87</th>\n",
       "      <td>510.0</td>\n",
       "      <td>1566.0</td>\n",
       "      <td>1809.0</td>\n",
       "      <td>1726.0</td>\n",
       "      <td>1233.0</td>\n",
       "    </tr>\n",
       "    <tr>\n",
       "      <th>88</th>\n",
       "      <td>498.0</td>\n",
       "      <td>1141.0</td>\n",
       "      <td>1416.0</td>\n",
       "      <td>1474.0</td>\n",
       "      <td>1260.0</td>\n",
       "    </tr>\n",
       "    <tr>\n",
       "      <th>89</th>\n",
       "      <td>433.0</td>\n",
       "      <td>908.0</td>\n",
       "      <td>969.0</td>\n",
       "      <td>1154.0</td>\n",
       "      <td>928.0</td>\n",
       "    </tr>\n",
       "    <tr>\n",
       "      <th>90</th>\n",
       "      <td>557.0</td>\n",
       "      <td>1329.0</td>\n",
       "      <td>1353.0</td>\n",
       "      <td>1550.0</td>\n",
       "      <td>1049.0</td>\n",
       "    </tr>\n",
       "    <tr>\n",
       "      <th>91</th>\n",
       "      <td>429.0</td>\n",
       "      <td>816.0</td>\n",
       "      <td>881.0</td>\n",
       "      <td>1062.0</td>\n",
       "      <td>820.0</td>\n",
       "    </tr>\n",
       "    <tr>\n",
       "      <th>92</th>\n",
       "      <td>386.0</td>\n",
       "      <td>1008.0</td>\n",
       "      <td>873.0</td>\n",
       "      <td>1125.0</td>\n",
       "      <td>555.0</td>\n",
       "    </tr>\n",
       "    <tr>\n",
       "      <th>93</th>\n",
       "      <td>250.0</td>\n",
       "      <td>645.0</td>\n",
       "      <td>617.0</td>\n",
       "      <td>933.0</td>\n",
       "      <td>370.0</td>\n",
       "    </tr>\n",
       "    <tr>\n",
       "      <th>94</th>\n",
       "      <td>179.0</td>\n",
       "      <td>438.0</td>\n",
       "      <td>309.0</td>\n",
       "      <td>586.0</td>\n",
       "      <td>184.0</td>\n",
       "    </tr>\n",
       "    <tr>\n",
       "      <th>95</th>\n",
       "      <td>102.0</td>\n",
       "      <td>229.0</td>\n",
       "      <td>176.0</td>\n",
       "      <td>254.0</td>\n",
       "      <td>85.0</td>\n",
       "    </tr>\n",
       "    <tr>\n",
       "      <th>96</th>\n",
       "      <td>37.0</td>\n",
       "      <td>101.0</td>\n",
       "      <td>73.0</td>\n",
       "      <td>101.0</td>\n",
       "      <td>30.0</td>\n",
       "    </tr>\n",
       "    <tr>\n",
       "      <th>97</th>\n",
       "      <td>30.0</td>\n",
       "      <td>55.0</td>\n",
       "      <td>23.0</td>\n",
       "      <td>56.0</td>\n",
       "      <td>27.0</td>\n",
       "    </tr>\n",
       "    <tr>\n",
       "      <th>98</th>\n",
       "      <td>11.0</td>\n",
       "      <td>12.0</td>\n",
       "      <td>7.0</td>\n",
       "      <td>19.0</td>\n",
       "      <td>4.0</td>\n",
       "    </tr>\n",
       "    <tr>\n",
       "      <th>99</th>\n",
       "      <td>1.0</td>\n",
       "      <td>4.0</td>\n",
       "      <td>NaN</td>\n",
       "      <td>2.0</td>\n",
       "      <td>5.0</td>\n",
       "    </tr>\n",
       "    <tr>\n",
       "      <th>100</th>\n",
       "      <td>NaN</td>\n",
       "      <td>3.0</td>\n",
       "      <td>3.0</td>\n",
       "      <td>2.0</td>\n",
       "      <td>2.0</td>\n",
       "    </tr>\n",
       "  </tbody>\n",
       "</table>\n",
       "</div>"
      ],
      "text/plain": [
       "        Bordeaux-style Red Blend  Cabernet Sauvignon  Chardonnay  Pinot Noir  \\\n",
       "points                                                                         \n",
       "80                           5.0                87.0        68.0        36.0   \n",
       "81                          18.0               159.0       150.0        83.0   \n",
       "82                          72.0               435.0       517.0       295.0   \n",
       "83                          95.0               570.0       669.0       346.0   \n",
       "84                         268.0               923.0      1146.0       733.0   \n",
       "85                         310.0              1048.0      1244.0       873.0   \n",
       "86                         354.0              1194.0      1472.0      1218.0   \n",
       "87                         510.0              1566.0      1809.0      1726.0   \n",
       "88                         498.0              1141.0      1416.0      1474.0   \n",
       "89                         433.0               908.0       969.0      1154.0   \n",
       "90                         557.0              1329.0      1353.0      1550.0   \n",
       "91                         429.0               816.0       881.0      1062.0   \n",
       "92                         386.0              1008.0       873.0      1125.0   \n",
       "93                         250.0               645.0       617.0       933.0   \n",
       "94                         179.0               438.0       309.0       586.0   \n",
       "95                         102.0               229.0       176.0       254.0   \n",
       "96                          37.0               101.0        73.0       101.0   \n",
       "97                          30.0                55.0        23.0        56.0   \n",
       "98                          11.0                12.0         7.0        19.0   \n",
       "99                           1.0                 4.0         NaN         2.0   \n",
       "100                          NaN                 3.0         3.0         2.0   \n",
       "\n",
       "        Red Blend  \n",
       "points             \n",
       "80           72.0  \n",
       "81          107.0  \n",
       "82          223.0  \n",
       "83          364.0  \n",
       "84          602.0  \n",
       "85          587.0  \n",
       "86          871.0  \n",
       "87         1233.0  \n",
       "88         1260.0  \n",
       "89          928.0  \n",
       "90         1049.0  \n",
       "91          820.0  \n",
       "92          555.0  \n",
       "93          370.0  \n",
       "94          184.0  \n",
       "95           85.0  \n",
       "96           30.0  \n",
       "97           27.0  \n",
       "98            4.0  \n",
       "99            5.0  \n",
       "100           2.0  "
      ]
     },
     "execution_count": 41,
     "metadata": {},
     "output_type": "execute_result"
    }
   ],
   "source": [
    "winecount.shape\n",
    "winecount"
   ]
  },
  {
   "cell_type": "code",
   "execution_count": 42,
   "metadata": {},
   "outputs": [
    {
     "data": {
      "text/plain": [
       "<matplotlib.axes._subplots.AxesSubplot at 0x1a222e9da0>"
      ]
     },
     "execution_count": 42,
     "metadata": {},
     "output_type": "execute_result"
    },
    {
     "data": {
      "image/png": "[encoded data removed]",
      "text/plain": [
       "<Figure size 432x288 with 1 Axes>"
      ]
     },
     "metadata": {},
     "output_type": "display_data"
    }
   ],
   "source": [
    "winecount.plot.bar(stacked=True)"
   ]
  },
  {
   "cell_type": "code",
   "execution_count": 43,
   "metadata": {},
   "outputs": [
    {
     "data": {
      "text/plain": [
       "<matplotlib.axes._subplots.AxesSubplot at 0x1a21604eb8>"
      ]
     },
     "execution_count": 43,
     "metadata": {},
     "output_type": "execute_result"
    },
    {
     "data": {
      "image/png": "[encoded data removed]",
      "text/plain": [
       "<Figure size 432x288 with 1 Axes>"
      ]
     },
     "metadata": {},
     "output_type": "display_data"
    }
   ],
   "source": [
    "winecount.plot.line()"
   ]
  },
  {
   "cell_type": "code",
   "execution_count": 44,
   "metadata": {},
   "outputs": [
    {
     "data": {
      "text/plain": [
       "80       562\n",
       "81       951\n",
       "82      2491\n",
       "83      3751\n",
       "84      6870\n",
       "85      8013\n",
       "86      9919\n",
       "87     12830\n",
       "88     11624\n",
       "89      8553\n",
       "90     10703\n",
       "91      7191\n",
       "92      6130\n",
       "93      4019\n",
       "94      2332\n",
       "95      1132\n",
       "96       440\n",
       "97       226\n",
       "98        75\n",
       "99        28\n",
       "100       11\n",
       "Name: points, dtype: int64"
      ]
     },
     "execution_count": 44,
     "metadata": {},
     "output_type": "execute_result"
    }
   ],
   "source": [
    "type(review['points'].value_counts().sort_index())\n",
    "review['points'].value_counts().sort_index()"
   ]
  },
  {
   "cell_type": "code",
   "execution_count": 45,
   "metadata": {},
   "outputs": [
    {
     "data": {
      "text/plain": [
       "<matplotlib.axes._subplots.AxesSubplot at 0x10ff7a550>"
      ]
     },
     "execution_count": 45,
     "metadata": {},
     "output_type": "execute_result"
    },
    {
     "data": {
      "image/png": "[encoded data removed]",
      "text/plain": [
       "<Figure size 1080x720 with 4 Axes>"
      ]
     },
     "metadata": {},
     "output_type": "display_data"
    }
   ],
   "source": [
    "fig,axarr=plt.subplots(2,2,figsize=(15,10))\n",
    "review['points'].value_counts().sort_index().plot.bar(ax=axarr[0][0])\n",
    "review['price'].value_counts().head(15).sort_index().plot.bar(ax=axarr[0][1])\n",
    "review['variety'].value_counts().head(22).plot.bar(ax=axarr[1][0])\n",
    "review['province'].value_counts().head(25).plot.bar(ax=axarr[1][1])"
   ]
  },
  {
   "cell_type": "code",
   "execution_count": 46,
   "metadata": {},
   "outputs": [
    {
     "name": "stdout",
     "output_type": "stream",
     "text": [
      "357\n",
      "<class 'pandas.core.series.Series'>\n",
      "Float64Index([10.0, 12.0, 13.0, 14.0, 15.0, 16.0, 17.0, 18.0, 20.0, 22.0, 25.0,\n",
      "              30.0, 35.0, 40.0, 50.0],\n",
      "             dtype='float64')\n",
      "[3263 3204 2869 2437 4544 2747 2275 3795 5042 2398 3880 3540 2699 2637 2257]\n"
     ]
    },
    {
     "data": {
      "text/plain": [
       "<matplotlib.axes._subplots.AxesSubplot at 0x1a23f81908>"
      ]
     },
     "execution_count": 46,
     "metadata": {},
     "output_type": "execute_result"
    },
    {
     "data": {
      "image/png": "[encoded data removed]",
      "text/plain": [
       "<Figure size 432x288 with 1 Axes>"
      ]
     },
     "metadata": {},
     "output_type": "display_data"
    }
   ],
   "source": [
    "print(review['price'].nunique())\n",
    "print(type(review['price'].value_counts()))\n",
    "print(review['price'].value_counts().head(15).sort_index().index)\n",
    "print(review['price'].value_counts().head(15).sort_index().values)\n",
    "review['price'].value_counts().head(15).sort_index().plot.bar()\n",
    "#plt.hist(x=)\n",
    "#plt.show()"
   ]
  },
  {
   "cell_type": "code",
   "execution_count": 47,
   "metadata": {},
   "outputs": [
    {
     "data": {
      "text/plain": [
       "119285      4.0\n",
       "25645       4.0\n",
       "1858        4.0\n",
       "36716       4.0\n",
       "73417       4.0\n",
       "119295      4.0\n",
       "34415       4.0\n",
       "90546       4.0\n",
       "118347      4.0\n",
       "34682       4.0\n",
       "99045       4.0\n",
       "114167      4.0\n",
       "112491      5.0\n",
       "143670      5.0\n",
       "114904      5.0\n",
       "65265       5.0\n",
       "141128      5.0\n",
       "146395      5.0\n",
       "114362      5.0\n",
       "114647      5.0\n",
       "113776      5.0\n",
       "36356       5.0\n",
       "36352       5.0\n",
       "143406      5.0\n",
       "136436      5.0\n",
       "81063       5.0\n",
       "5609        5.0\n",
       "69542       5.0\n",
       "114079      5.0\n",
       "114631      5.0\n",
       "          ...  \n",
       "68245     450.0\n",
       "10538     450.0\n",
       "68393     450.0\n",
       "2155      450.0\n",
       "127780    450.0\n",
       "52262     451.0\n",
       "127794    455.0\n",
       "24162     460.0\n",
       "24173     460.0\n",
       "24151     460.0\n",
       "13143     463.0\n",
       "111362    467.0\n",
       "11566     468.0\n",
       "76118     475.0\n",
       "101474    486.0\n",
       "104218    495.0\n",
       "104212    495.0\n",
       "73118     495.0\n",
       "104206    495.0\n",
       "127779    500.0\n",
       "3033      500.0\n",
       "898       500.0\n",
       "114280    500.0\n",
       "115160    500.0\n",
       "128118    500.0\n",
       "11389     500.0\n",
       "115162    500.0\n",
       "128104    500.0\n",
       "29227     500.0\n",
       "7691      500.0\n",
       "Name: price, Length: 89077, dtype: float64"
      ]
     },
     "execution_count": 47,
     "metadata": {},
     "output_type": "execute_result"
    }
   ],
   "source": [
    "review[(review['price']>=4) & (review['price']<=500)]['price'].sort_values()"
   ]
  },
  {
   "cell_type": "code",
   "execution_count": 48,
   "metadata": {},
   "outputs": [
    {
     "name": "stdout",
     "output_type": "stream",
     "text": [
      "(97851,)\n",
      "632\n"
     ]
    }
   ],
   "source": [
    "print(review.variety.shape)\n",
    "print(review.variety.nunique())"
   ]
  },
  {
   "cell_type": "code",
   "execution_count": 49,
   "metadata": {},
   "outputs": [
    {
     "data": {
      "text/plain": [
       "<matplotlib.axes._subplots.AxesSubplot at 0x1a240784a8>"
      ]
     },
     "execution_count": 49,
     "metadata": {},
     "output_type": "execute_result"
    },
    {
     "data": {
      "image/png": "[encoded data removed]",
      "text/plain": [
       "<Figure size 432x288 with 1 Axes>"
      ]
     },
     "metadata": {},
     "output_type": "display_data"
    }
   ],
   "source": [
    "sns.countplot(review['points']) #same as value_counts()"
   ]
  },
  {
   "cell_type": "code",
   "execution_count": 50,
   "metadata": {},
   "outputs": [
    {
     "data": {
      "text/plain": [
       "<matplotlib.axes._subplots.AxesSubplot at 0x1a24db6198>"
      ]
     },
     "execution_count": 50,
     "metadata": {},
     "output_type": "execute_result"
    },
    {
     "data": {
      "image/png": "[encoded data removed]",
      "text/plain": [
       "<Figure size 432x288 with 1 Axes>"
      ]
     },
     "metadata": {},
     "output_type": "display_data"
    }
   ],
   "source": [
    "sns.kdeplot(review[review['price']<200]['price']) #by default the plot is drawn by sorting by indices(sorted by price)"
   ]
  },
  {
   "cell_type": "code",
   "execution_count": 51,
   "metadata": {},
   "outputs": [
    {
     "data": {
      "text/plain": [
       "<matplotlib.axes._subplots.AxesSubplot at 0x1a254c4588>"
      ]
     },
     "execution_count": 51,
     "metadata": {},
     "output_type": "execute_result"
    },
    {
     "data": {
      "image/png": "[encoded data removed]",
      "text/plain": [
       "<Figure size 432x288 with 1 Axes>"
      ]
     },
     "metadata": {},
     "output_type": "display_data"
    }
   ],
   "source": [
    "review[review['price']<200]['price'].value_counts().sort_index().plot.line()\n"
   ]
  },
  {
   "cell_type": "code",
   "execution_count": 52,
   "metadata": {},
   "outputs": [
    {
     "data": {
      "text/plain": [
       "<matplotlib.axes._subplots.AxesSubplot at 0x1a22d257f0>"
      ]
     },
     "execution_count": 52,
     "metadata": {},
     "output_type": "execute_result"
    },
    {
     "data": {
      "image/png": "[encoded data removed]",
      "text/plain": [
       "<Figure size 432x288 with 1 Axes>"
      ]
     },
     "metadata": {},
     "output_type": "display_data"
    }
   ],
   "source": [
    "sns.kdeplot(review[review['price'] < 200].loc[:, ['price', 'points',]].dropna().sample(5000))"
   ]
  },
  {
   "cell_type": "code",
   "execution_count": 53,
   "metadata": {},
   "outputs": [
    {
     "data": {
      "text/plain": [
       "<matplotlib.axes._subplots.AxesSubplot at 0x1a254baa58>"
      ]
     },
     "execution_count": 53,
     "metadata": {},
     "output_type": "execute_result"
    },
    {
     "data": {
      "image/png": "[encoded data removed]",
      "text/plain": [
       "<Figure size 432x288 with 1 Axes>"
      ]
     },
     "metadata": {},
     "output_type": "display_data"
    }
   ],
   "source": [
    "sns.kdeplot(review['points'])"
   ]
  },
  {
   "cell_type": "code",
   "execution_count": 54,
   "metadata": {},
   "outputs": [
    {
     "data": {
      "text/plain": [
       "<matplotlib.axes._subplots.AxesSubplot at 0x1169fa2e8>"
      ]
     },
     "execution_count": 54,
     "metadata": {},
     "output_type": "execute_result"
    },
    {
     "data": {
      "image/png": "[encoded data removed]",
      "text/plain": [
       "<Figure size 432x288 with 1 Axes>"
      ]
     },
     "metadata": {},
     "output_type": "display_data"
    }
   ],
   "source": [
    "sns.distplot(review['points'],bins=10,kde=True)"
   ]
  },
  {
   "cell_type": "code",
   "execution_count": 55,
   "metadata": {},
   "outputs": [
    {
     "data": {
      "text/plain": [
       "<seaborn.axisgrid.JointGrid at 0x1a22d88828>"
      ]
     },
     "execution_count": 55,
     "metadata": {},
     "output_type": "execute_result"
    },
    {
     "data": {
      "image/png": "[encoded data removed]",
      "text/plain": [
       "<Figure size 432x432 with 3 Axes>"
      ]
     },
     "metadata": {},
     "output_type": "display_data"
    }
   ],
   "source": [
    "sns.jointplot(x='price',y='points',data=review[review['price']<100])"
   ]
  },
  {
   "cell_type": "code",
   "execution_count": 56,
   "metadata": {},
   "outputs": [
    {
     "data": {
      "image/png": "[encoded data removed]",
      "text/plain": [
       "<Figure size 432x432 with 3 Axes>"
      ]
     },
     "metadata": {},
     "output_type": "display_data"
    },
    {
     "data": {
      "image/png": "[encoded data removed]",
      "text/plain": [
       "<Figure size 432x432 with 3 Axes>"
      ]
     },
     "metadata": {},
     "output_type": "display_data"
    },
    {
     "data": {
      "image/png": "[encoded data removed]",
      "text/plain": [
       "<Figure size 432x432 with 3 Axes>"
      ]
     },
     "metadata": {},
     "output_type": "display_data"
    },
    {
     "data": {
      "image/png": "[encoded data removed]",
      "text/plain": [
       "<Figure size 432x432 with 3 Axes>"
      ]
     },
     "metadata": {},
     "output_type": "display_data"
    },
    {
     "data": {
      "image/png": "[encoded data removed]",
      "text/plain": [
       "<Figure size 432x432 with 3 Axes>"
      ]
     },
     "metadata": {},
     "output_type": "display_data"
    }
   ],
   "source": [
    "kind =[ 'scatter' , 'reg' , 'resid' , 'kde' , 'hex' ]\n",
    "for i in kind:\n",
    "    sns.jointplot(x='price', y='points', data=review[review['price'] < 100],kind=i)"
   ]
  },
  {
   "cell_type": "code",
   "execution_count": 57,
   "metadata": {},
   "outputs": [
    {
     "data": {
      "text/plain": [
       "<seaborn.axisgrid.JointGrid at 0x1a3157f898>"
      ]
     },
     "execution_count": 57,
     "metadata": {},
     "output_type": "execute_result"
    },
    {
     "data": {
      "image/png": "[encoded data removed]",
      "text/plain": [
       "<Figure size 432x432 with 3 Axes>"
      ]
     },
     "metadata": {},
     "output_type": "display_data"
    }
   ],
   "source": [
    "sns.jointplot(x='price',y='points',data=review[review['price']<100],kind='hex',gridsize=15)"
   ]
  },
  {
   "cell_type": "code",
   "execution_count": 58,
   "metadata": {},
   "outputs": [
    {
     "data": {
      "text/plain": [
       "Index(['Pinot Noir', 'Chardonnay', 'Cabernet Sauvignon', 'Red Blend',\n",
       "       'Bordeaux-style Red Blend'],\n",
       "      dtype='object')"
      ]
     },
     "execution_count": 58,
     "metadata": {},
     "output_type": "execute_result"
    }
   ],
   "source": [
    "review['points'].corr(review['price'])\n",
    "(review['variety'].value_counts().head(5).index)"
   ]
  },
  {
   "cell_type": "code",
   "execution_count": 59,
   "metadata": {},
   "outputs": [
    {
     "data": {
      "text/plain": [
       "pandas.core.frame.DataFrame"
      ]
     },
     "execution_count": 59,
     "metadata": {},
     "output_type": "execute_result"
    },
    {
     "data": {
      "image/png": "[encoded data removed]",
      "text/plain": [
       "<Figure size 432x288 with 1 Axes>"
      ]
     },
     "metadata": {},
     "output_type": "display_data"
    }
   ],
   "source": [
    "df=review[review['variety'].isin(review['variety'].value_counts().head(5).index)]\n",
    "sns.boxplot(x='variety',y='points',data=df)\n",
    "type(df)\n",
    "#df"
   ]
  },
  {
   "cell_type": "code",
   "execution_count": 65,
   "metadata": {},
   "outputs": [
    {
     "data": {
      "text/plain": [
       "1         110.0\n",
       "2          90.0\n",
       "3          65.0\n",
       "4          66.0\n",
       "5          73.0\n",
       "6          65.0\n",
       "7         110.0\n",
       "8          65.0\n",
       "9          60.0\n",
       "10         80.0\n",
       "11         48.0\n",
       "12         48.0\n",
       "13         90.0\n",
       "14        185.0\n",
       "15         90.0\n",
       "17         80.0\n",
       "19         75.0\n",
       "20         24.0\n",
       "21         79.0\n",
       "23         60.0\n",
       "24         45.0\n",
       "25         57.0\n",
       "26         62.0\n",
       "27        105.0\n",
       "28         60.0\n",
       "29         60.0\n",
       "30         15.0\n",
       "31         37.0\n",
       "33         22.0\n",
       "34         42.0\n",
       "          ...  \n",
       "149548     17.0\n",
       "149549     13.0\n",
       "149611     10.0\n",
       "149612     13.0\n",
       "149613     20.0\n",
       "149614      8.0\n",
       "149615      8.0\n",
       "149616      8.0\n",
       "149617     13.0\n",
       "149618     19.0\n",
       "149619     60.0\n",
       "149620     13.0\n",
       "149621     10.0\n",
       "149622     13.0\n",
       "149623     13.0\n",
       "149624     50.0\n",
       "149625     10.0\n",
       "149626     16.0\n",
       "149627     21.0\n",
       "149628      8.0\n",
       "149629     25.0\n",
       "149630     27.0\n",
       "149631    130.0\n",
       "149632     12.0\n",
       "149633     40.0\n",
       "149634     15.0\n",
       "149635     15.0\n",
       "149637      6.0\n",
       "149638      9.0\n",
       "149639      8.0\n",
       "Name: price, Length: 88554, dtype: float64"
      ]
     },
     "execution_count": 65,
     "metadata": {},
     "output_type": "execute_result"
    }
   ],
   "source": [
    "review[review['price']<200]['price'].sort_index()"
   ]
  },
  {
   "cell_type": "code",
   "execution_count": null,
   "metadata": {},
   "outputs": [],
   "source": []
  }
 ],
 "metadata": {
  "kernelspec": {
   "display_name": "Python 3",
   "language": "python",
   "name": "python3"
  },
  "language_info": {
   "codemirror_mode": {
    "name": "ipython",
    "version": 3
   },
   "file_extension": ".py",
   "mimetype": "text/x-python",
   "name": "python",
   "nbconvert_exporter": "python",
   "pygments_lexer": "ipython3",
   "version": "3.7.0"
  }
 },
 "nbformat": 4,
 "nbformat_minor": 2
}
